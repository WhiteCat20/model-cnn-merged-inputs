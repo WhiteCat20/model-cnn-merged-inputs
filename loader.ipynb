{
 "cells": [
  {
   "cell_type": "code",
   "execution_count": 11,
   "metadata": {},
   "outputs": [],
   "source": [
    "import matplotlib.pyplot as plt\n",
    "import numpy as np\n",
    "import tensorflow as tf\n",
    "import cv2\n",
    "import easygui\n",
    "from rembg import remove\n",
    "from PIL import Image\n",
    "import joblib\n",
    "import pandas as pd"
   ]
  },
  {
   "cell_type": "code",
   "execution_count": 2,
   "metadata": {},
   "outputs": [],
   "source": [
    "# Load the TFLite model\n",
    "interpreter = tf.lite.Interpreter(model_path='10062024-0524.tflite')\n",
    "interpreter.allocate_tensors()\n",
    "\n",
    "# Get input and output tensors\n",
    "input_details = interpreter.get_input_details()\n",
    "output_details = interpreter.get_output_details()"
   ]
  },
  {
   "cell_type": "code",
   "execution_count": 35,
   "metadata": {},
   "outputs": [],
   "source": [
    "image_path = easygui.fileopenbox(title='Select Image File')\n",
    "gas_path = easygui.fileopenbox(title='Select Gas File')"
   ]
  },
  {
   "cell_type": "code",
   "execution_count": 36,
   "metadata": {},
   "outputs": [],
   "source": [
    "img = cv2.imread(str(image_path))\n",
    "img = cv2.resize(img, (200, 200))\n",
    "X_image = tf.keras.preprocessing.image.img_to_array(img)\n",
    "X_image = np.expand_dims(X_image, axis=0)"
   ]
  },
  {
   "cell_type": "code",
   "execution_count": 37,
   "metadata": {},
   "outputs": [],
   "source": [
    "def load_csv_data(file_path):\n",
    "    csv_data = pd.read_csv(file_path).values.flatten()\n",
    "    return np.array([csv_data])\n",
    "\n",
    "def preprocess_data(data, scaler):\n",
    "    data = scaler.transform(data)\n",
    "    data = data.reshape((data.shape[0], data.shape[1], 1))\n",
    "    return data\n",
    "data = load_csv_data(gas_path)\n",
    "\n",
    "scaler_path = 'scaler.pkl' \n",
    "scaler = joblib.load(scaler_path)\n",
    "# Melakukan preprocessing pada data input\n",
    "data = preprocess_data(data, scaler)"
   ]
  },
  {
   "cell_type": "code",
   "execution_count": 38,
   "metadata": {},
   "outputs": [],
   "source": [
    "input_data_image = X_image\n",
    "input_data_gas = data.astype(np.float32)\n",
    "interpreter.set_tensor(input_details[0]['index'], input_data_image)\n",
    "interpreter.set_tensor(input_details[1]['index'], input_data_gas)\n",
    "interpreter.invoke()"
   ]
  },
  {
   "cell_type": "code",
   "execution_count": 39,
   "metadata": {},
   "outputs": [
    {
     "name": "stdout",
     "output_type": "stream",
     "text": [
      "Predictions: [0.]\n"
     ]
    }
   ],
   "source": [
    "predictions = interpreter.get_tensor(output_details[0]['index'])\n",
    "# Melakukan prediksi\n",
    "predictions = np.round(predictions[0],2).flatten()\n",
    "print(f'Predictions: {predictions}')"
   ]
  }
 ],
 "metadata": {
  "kernelspec": {
   "display_name": "Python 3",
   "language": "python",
   "name": "python3"
  },
  "language_info": {
   "codemirror_mode": {
    "name": "ipython",
    "version": 3
   },
   "file_extension": ".py",
   "mimetype": "text/x-python",
   "name": "python",
   "nbconvert_exporter": "python",
   "pygments_lexer": "ipython3",
   "version": "3.11.5"
  }
 },
 "nbformat": 4,
 "nbformat_minor": 2
}
