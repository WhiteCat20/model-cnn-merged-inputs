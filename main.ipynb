{
 "cells": [
  {
   "cell_type": "code",
   "execution_count": 9,
   "metadata": {},
   "outputs": [],
   "source": [
    "import matplotlib.pyplot as plt\n",
    "import numpy as np\n",
    "import cv2\n",
    "import tensorflow as tf\n",
    "import os\n",
    "from tensorflow import keras\n",
    "from tensorflow.keras import layers\n",
    "from tensorflow.keras.models import Sequential\n",
    "import pathlib\n",
    "import joblib\n",
    "from sklearn.model_selection import train_test_split\n",
    "from sklearn.metrics import confusion_matrix\n",
    "from sklearn.preprocessing import MinMaxScaler\n",
    "import seaborn as sns\n",
    "import datetime\n",
    "import pandas as pd"
   ]
  },
  {
   "cell_type": "code",
   "execution_count": 21,
   "metadata": {},
   "outputs": [
    {
     "name": "stdout",
     "output_type": "stream",
     "text": [
      "jumlah durian matang : 50\n",
      "jumlah durian mentah : 50\n"
     ]
    }
   ],
   "source": [
    "# Directory Management for Raw Image datasets\n",
    "data_dir_raw_image = 'datasets/image'\n",
    "data_dir_raw_image = pathlib.Path(data_dir_raw_image)\n",
    "raw_durian_images_dict = {\n",
    "    'ripe' : list(data_dir_raw_image.glob('ripe/*')),\n",
    "    'unripe' : list(data_dir_raw_image.glob('unripe/*')),\n",
    "} \n",
    "raw_durian_labels_dict = {\n",
    "    'ripe' : 0,\n",
    "    'unripe' : 1\n",
    "}\n",
    "print(f'jumlah durian matang : {len(raw_durian_images_dict[\"ripe\"])}')\n",
    "print(f'jumlah durian mentah : {len(raw_durian_images_dict[\"unripe\"])}')"
   ]
  },
  {
   "cell_type": "code",
   "execution_count": 22,
   "metadata": {},
   "outputs": [],
   "source": [
    "def load_data(data_dir):\n",
    "    data_gas = []\n",
    "    label_gas = []\n",
    "    for label, class_name in enumerate(['ripe', 'unripe']):\n",
    "        class_dir = os.path.join(data_dir, class_name)\n",
    "        for filename in os.listdir(class_dir):\n",
    "            if filename.endswith('.csv'):\n",
    "                file_path = os.path.join(class_dir, filename)\n",
    "                csv_data = pd.read_csv(file_path).values.flatten()\n",
    "                data_gas.append(csv_data)\n",
    "                label_gas.append(label)\n",
    "    return np.array(data_gas), np.array(label_gas)"
   ]
  },
  {
   "cell_type": "code",
   "execution_count": 23,
   "metadata": {},
   "outputs": [
    {
     "data": {
      "text/plain": [
       "100"
      ]
     },
     "execution_count": 23,
     "metadata": {},
     "output_type": "execute_result"
    }
   ],
   "source": [
    "data_dir = 'datasets/aroma'\n",
    "data_gas, label_gas = load_data(data_dir)\n",
    "# Normalize the data\n",
    "scaler = MinMaxScaler()\n",
    "data = scaler.fit_transform(data_gas)\n",
    "# Menyimpan scaler ke file\n",
    "scaler_file = \"scaler.pkl\"\n",
    "joblib.dump(scaler, scaler_file)\n",
    "max_len = max(map(len, data))\n",
    "data = np.array([np.pad(d, (0, max_len - len(d)), 'constant') for d in data])\n",
    "len(data)\n",
    "len(label_gas)"
   ]
  },
  {
   "cell_type": "code",
   "execution_count": 24,
   "metadata": {},
   "outputs": [
    {
     "data": {
      "text/plain": [
       "100"
      ]
     },
     "execution_count": 24,
     "metadata": {},
     "output_type": "execute_result"
    }
   ],
   "source": [
    "X_image, y_image = [], []\n",
    "for durian_ripeness, images in raw_durian_images_dict.items():\n",
    "    for index, image in enumerate(images):\n",
    "        img = cv2.imread(str(image))\n",
    "        resized_img = cv2.resize(img,(200,200))\n",
    "        X_image.append(resized_img)\n",
    "        y_image.append(raw_durian_labels_dict[durian_ripeness])\n",
    "X_image = np.array(X_image)\n",
    "y_image = np.array(y_image)\n",
    "len(y_image)"
   ]
  },
  {
   "cell_type": "code",
   "execution_count": 6,
   "metadata": {},
   "outputs": [],
   "source": [
    "from sklearn.model_selection import train_test_split\n",
    "X_train_raw, X_test_raw, y_train_raw, y_test_raw = train_test_split(X_raw, y_raw, train_size=0.7)\n",
    "X_train_gas, X_test_gas, y_train_gas, y_test_gas = train_test_split(X_gas, y_gas, train_size=0.7)\n",
    "\n",
    "# Scaling Raw dataset\n",
    "X_train_scaled_raw = X_train_raw /255\n",
    "X_test_scaled_raw = X_test_raw /255\n",
    "# Scaling Gas dataset\n",
    "X_train_scaled_gas = X_train_gas /255\n",
    "X_test_scaled_gas = X_test_gas /255"
   ]
  },
  {
   "cell_type": "code",
   "execution_count": 7,
   "metadata": {},
   "outputs": [],
   "source": [
    "from tensorflow.keras.layers import Input, Conv2D, MaxPooling2D, Dropout, Flatten, Dense, concatenate\n",
    "from tensorflow.keras.models import Model\n",
    "\n",
    "input_shape_raw = (200, 200, 3)  \n",
    "input_shape_gas = (200, 200, 3)  \n",
    "\n",
    "# Define two separate input layers\n",
    "input_raw = Input(shape=input_shape_raw)\n",
    "input_gas = Input(shape=input_shape_gas)"
   ]
  },
  {
   "cell_type": "code",
   "execution_count": 8,
   "metadata": {},
   "outputs": [],
   "source": [
    "convDim = 3  # Define the convolution dimension"
   ]
  },
  {
   "cell_type": "code",
   "execution_count": 9,
   "metadata": {},
   "outputs": [],
   "source": [
    "# Convolution layer for Raw dataset\n",
    "conv1_raw = Conv2D(16, (convDim, convDim), activation='relu', input_shape=input_shape_raw)(input_raw)\n",
    "pool1_raw = MaxPooling2D(2, 2)(conv1_raw)\n",
    "\n",
    "conv2_raw = Conv2D(32, (convDim, convDim), activation='relu')(pool1_raw)\n",
    "pool2_raw = MaxPooling2D(2, 2)(conv2_raw)\n",
    "\n",
    "flat_raw = Flatten()(pool2_raw)"
   ]
  },
  {
   "cell_type": "code",
   "execution_count": 10,
   "metadata": {},
   "outputs": [],
   "source": [
    "# Convolution layer for Gas dataset\n",
    "conv1_gas = Conv2D(16, (convDim, convDim), activation='relu', input_shape=input_shape_gas)(input_gas)\n",
    "pool1_gas = MaxPooling2D(2, 2)(conv1_gas)\n",
    "\n",
    "conv2_gas = Conv2D(32, (convDim, convDim), activation='relu')(pool1_gas)\n",
    "pool2_gas = MaxPooling2D(2, 2)(conv2_gas)\n",
    "\n",
    "flat_gas = Flatten()(pool2_gas)"
   ]
  },
  {
   "cell_type": "code",
   "execution_count": 11,
   "metadata": {},
   "outputs": [],
   "source": [
    "# Concatenate the flattened outputs\n",
    "merged = concatenate([flat_raw, flat_gas])"
   ]
  },
  {
   "cell_type": "code",
   "execution_count": 12,
   "metadata": {},
   "outputs": [],
   "source": [
    "# Fully Connected Layer\n",
    "fc2 = Dense(128, activation='relu')(merged)\n",
    "fc3 = Dense(64, activation='relu')(fc2)\n",
    "output = Dense(1, activation='sigmoid')(fc3)\n",
    "\n",
    "# Create the model\n",
    "model = Model(inputs=[input_raw, input_gas], outputs=output)"
   ]
  },
  {
   "cell_type": "code",
   "execution_count": 14,
   "metadata": {},
   "outputs": [],
   "source": [
    "class myCallback(tf.keras.callbacks.Callback):\n",
    "  def on_epoch_end(self, epoch, logs={}):\n",
    "    # Check the loss\n",
    "    if(logs.get('accuracy') == 1.0):\n",
    "\n",
    "      # Stop if threshold is met\n",
    "      print(\"\\nAccuracy is reached than 1.0 so cancelling training!\")\n",
    "      self.model.stop_training = True\n",
    "\n",
    "# Instantiate class\n",
    "callbacks = myCallback()\n",
    "# callbacks=callbacks"
   ]
  },
  {
   "cell_type": "code",
   "execution_count": 15,
   "metadata": {},
   "outputs": [
    {
     "name": "stdout",
     "output_type": "stream",
     "text": [
      "Epoch 1/50\n",
      "3/3 [==============================] - 10s 2s/step - loss: 1.0262 - accuracy: 0.5143 - val_loss: 4.1958 - val_accuracy: 0.4667\n",
      "Epoch 2/50\n",
      "3/3 [==============================] - 5s 1s/step - loss: 2.1340 - accuracy: 0.5429 - val_loss: 1.3027 - val_accuracy: 0.5333\n",
      "Epoch 3/50\n",
      "3/3 [==============================] - 4s 1s/step - loss: 1.2865 - accuracy: 0.4857 - val_loss: 0.6958 - val_accuracy: 0.5000\n",
      "Epoch 4/50\n",
      "3/3 [==============================] - 4s 1s/step - loss: 0.6761 - accuracy: 0.4857 - val_loss: 0.9042 - val_accuracy: 0.4667\n",
      "Epoch 5/50\n",
      "3/3 [==============================] - 4s 1s/step - loss: 0.6395 - accuracy: 0.5286 - val_loss: 0.7359 - val_accuracy: 0.8000\n",
      "Epoch 6/50\n",
      "3/3 [==============================] - 4s 1s/step - loss: 0.5369 - accuracy: 0.8571 - val_loss: 0.5393 - val_accuracy: 0.7667\n",
      "Epoch 7/50\n",
      "3/3 [==============================] - 4s 1s/step - loss: 0.4272 - accuracy: 0.8857 - val_loss: 0.3628 - val_accuracy: 0.8667\n",
      "Epoch 8/50\n",
      "3/3 [==============================] - 4s 1s/step - loss: 0.2925 - accuracy: 0.9286 - val_loss: 0.2489 - val_accuracy: 0.9333\n",
      "Epoch 9/50\n",
      "3/3 [==============================] - 4s 1s/step - loss: 0.1672 - accuracy: 0.9857 - val_loss: 0.2872 - val_accuracy: 0.8667\n",
      "Epoch 10/50\n",
      "3/3 [==============================] - 4s 1s/step - loss: 0.1413 - accuracy: 0.9571 - val_loss: 0.1114 - val_accuracy: 0.9667\n",
      "Epoch 11/50\n",
      "3/3 [==============================] - 4s 1s/step - loss: 0.1441 - accuracy: 0.9286 - val_loss: 0.1796 - val_accuracy: 0.9000\n",
      "Epoch 12/50\n",
      "3/3 [==============================] - 4s 1s/step - loss: 0.0503 - accuracy: 1.0000 - val_loss: 0.0496 - val_accuracy: 1.0000\n",
      "Epoch 13/50\n",
      "3/3 [==============================] - 6s 2s/step - loss: 0.0289 - accuracy: 0.9857 - val_loss: 0.0362 - val_accuracy: 1.0000\n",
      "Epoch 14/50\n",
      "3/3 [==============================] - 6s 2s/step - loss: 0.0164 - accuracy: 1.0000 - val_loss: 0.0954 - val_accuracy: 0.9333\n",
      "Epoch 15/50\n",
      "3/3 [==============================] - 5s 1s/step - loss: 0.0120 - accuracy: 1.0000 - val_loss: 0.0807 - val_accuracy: 0.9333\n",
      "Epoch 16/50\n",
      "3/3 [==============================] - 5s 2s/step - loss: 0.0056 - accuracy: 1.0000 - val_loss: 0.0230 - val_accuracy: 1.0000\n",
      "Epoch 17/50\n",
      "3/3 [==============================] - 5s 2s/step - loss: 0.0061 - accuracy: 1.0000 - val_loss: 0.0124 - val_accuracy: 1.0000\n",
      "Epoch 18/50\n",
      "3/3 [==============================] - 4s 1s/step - loss: 0.0037 - accuracy: 1.0000 - val_loss: 0.0277 - val_accuracy: 1.0000\n",
      "Epoch 19/50\n",
      "3/3 [==============================] - 4s 1s/step - loss: 0.0016 - accuracy: 1.0000 - val_loss: 0.0727 - val_accuracy: 0.9667\n",
      "Epoch 20/50\n",
      "3/3 [==============================] - 4s 1s/step - loss: 0.0026 - accuracy: 1.0000 - val_loss: 0.0741 - val_accuracy: 0.9667\n",
      "Epoch 21/50\n",
      "3/3 [==============================] - 4s 1s/step - loss: 0.0018 - accuracy: 1.0000 - val_loss: 0.0334 - val_accuracy: 1.0000\n",
      "Epoch 22/50\n",
      "3/3 [==============================] - 4s 1s/step - loss: 8.7628e-04 - accuracy: 1.0000 - val_loss: 0.0154 - val_accuracy: 1.0000\n",
      "Epoch 23/50\n",
      "3/3 [==============================] - 4s 1s/step - loss: 9.2965e-04 - accuracy: 1.0000 - val_loss: 0.0100 - val_accuracy: 1.0000\n",
      "Epoch 24/50\n",
      "3/3 [==============================] - 4s 1s/step - loss: 9.8269e-04 - accuracy: 1.0000 - val_loss: 0.0113 - val_accuracy: 1.0000\n",
      "Epoch 25/50\n",
      "3/3 [==============================] - 4s 1s/step - loss: 7.1347e-04 - accuracy: 1.0000 - val_loss: 0.0164 - val_accuracy: 1.0000\n",
      "Epoch 26/50\n",
      "3/3 [==============================] - 4s 1s/step - loss: 5.0547e-04 - accuracy: 1.0000 - val_loss: 0.0246 - val_accuracy: 1.0000\n",
      "Epoch 27/50\n",
      "3/3 [==============================] - 4s 1s/step - loss: 4.6499e-04 - accuracy: 1.0000 - val_loss: 0.0327 - val_accuracy: 1.0000\n",
      "Epoch 28/50\n",
      "3/3 [==============================] - 4s 1s/step - loss: 4.8630e-04 - accuracy: 1.0000 - val_loss: 0.0349 - val_accuracy: 1.0000\n",
      "Epoch 29/50\n",
      "3/3 [==============================] - 4s 1s/step - loss: 4.6598e-04 - accuracy: 1.0000 - val_loss: 0.0312 - val_accuracy: 1.0000\n",
      "Epoch 30/50\n",
      "3/3 [==============================] - 4s 1s/step - loss: 4.0494e-04 - accuracy: 1.0000 - val_loss: 0.0256 - val_accuracy: 1.0000\n",
      "Epoch 31/50\n",
      "3/3 [==============================] - 4s 1s/step - loss: 3.6131e-04 - accuracy: 1.0000 - val_loss: 0.0197 - val_accuracy: 1.0000\n",
      "Epoch 32/50\n",
      "3/3 [==============================] - 4s 1s/step - loss: 3.2800e-04 - accuracy: 1.0000 - val_loss: 0.0165 - val_accuracy: 1.0000\n",
      "Epoch 33/50\n",
      "3/3 [==============================] - 4s 1s/step - loss: 3.2439e-04 - accuracy: 1.0000 - val_loss: 0.0148 - val_accuracy: 1.0000\n",
      "Epoch 34/50\n",
      "3/3 [==============================] - 4s 1s/step - loss: 3.1801e-04 - accuracy: 1.0000 - val_loss: 0.0151 - val_accuracy: 1.0000\n",
      "Epoch 35/50\n",
      "3/3 [==============================] - 4s 1s/step - loss: 2.9532e-04 - accuracy: 1.0000 - val_loss: 0.0174 - val_accuracy: 1.0000\n",
      "Epoch 36/50\n",
      "3/3 [==============================] - 4s 1s/step - loss: 2.6964e-04 - accuracy: 1.0000 - val_loss: 0.0230 - val_accuracy: 1.0000\n",
      "Epoch 37/50\n",
      "3/3 [==============================] - 4s 1s/step - loss: 2.7903e-04 - accuracy: 1.0000 - val_loss: 0.0268 - val_accuracy: 1.0000\n",
      "Epoch 38/50\n",
      "3/3 [==============================] - 4s 1s/step - loss: 2.6937e-04 - accuracy: 1.0000 - val_loss: 0.0232 - val_accuracy: 1.0000\n",
      "Epoch 39/50\n",
      "3/3 [==============================] - 4s 1s/step - loss: 2.5302e-04 - accuracy: 1.0000 - val_loss: 0.0188 - val_accuracy: 1.0000\n",
      "Epoch 40/50\n",
      "3/3 [==============================] - 4s 1s/step - loss: 2.3435e-04 - accuracy: 1.0000 - val_loss: 0.0172 - val_accuracy: 1.0000\n",
      "Epoch 41/50\n",
      "3/3 [==============================] - 4s 1s/step - loss: 2.2153e-04 - accuracy: 1.0000 - val_loss: 0.0179 - val_accuracy: 1.0000\n",
      "Epoch 42/50\n",
      "3/3 [==============================] - 4s 1s/step - loss: 2.1202e-04 - accuracy: 1.0000 - val_loss: 0.0193 - val_accuracy: 1.0000\n",
      "Epoch 43/50\n",
      "3/3 [==============================] - 4s 1s/step - loss: 2.0576e-04 - accuracy: 1.0000 - val_loss: 0.0204 - val_accuracy: 1.0000\n",
      "Epoch 44/50\n",
      "3/3 [==============================] - 4s 1s/step - loss: 1.9907e-04 - accuracy: 1.0000 - val_loss: 0.0202 - val_accuracy: 1.0000\n",
      "Epoch 45/50\n",
      "3/3 [==============================] - 4s 1s/step - loss: 1.9258e-04 - accuracy: 1.0000 - val_loss: 0.0201 - val_accuracy: 1.0000\n",
      "Epoch 46/50\n",
      "3/3 [==============================] - 4s 1s/step - loss: 1.8568e-04 - accuracy: 1.0000 - val_loss: 0.0197 - val_accuracy: 1.0000\n",
      "Epoch 47/50\n",
      "3/3 [==============================] - 4s 1s/step - loss: 1.7902e-04 - accuracy: 1.0000 - val_loss: 0.0179 - val_accuracy: 1.0000\n",
      "Epoch 48/50\n",
      "3/3 [==============================] - 4s 1s/step - loss: 1.7206e-04 - accuracy: 1.0000 - val_loss: 0.0155 - val_accuracy: 1.0000\n",
      "Epoch 49/50\n",
      "3/3 [==============================] - 4s 1s/step - loss: 1.6467e-04 - accuracy: 1.0000 - val_loss: 0.0145 - val_accuracy: 1.0000\n",
      "Epoch 50/50\n",
      "3/3 [==============================] - 4s 1s/step - loss: 1.6088e-04 - accuracy: 1.0000 - val_loss: 0.0135 - val_accuracy: 1.0000\n"
     ]
    }
   ],
   "source": [
    "# Train the model\n",
    "model_fit = model.fit(\n",
    " ( X_train_scaled_raw, X_train_scaled_gas), \n",
    " y_train_raw, \n",
    " epochs=50,\n",
    " validation_data=(\n",
    "        ( X_test_scaled_raw, X_test_scaled_gas), \n",
    "        ( y_test_raw, y_test_gas)\n",
    "    ),\n",
    "#  callbacks=callbacks\n",
    " )"
   ]
  },
  {
   "cell_type": "code",
   "execution_count": 16,
   "metadata": {},
   "outputs": [
    {
     "name": "stdout",
     "output_type": "stream",
     "text": [
      "1/1 [==============================] - 0s 376ms/step - loss: 0.0135 - accuracy: 1.0000\n",
      "Test Loss: 0.01345971692353487\n",
      "Test Accuracy: 1.0\n"
     ]
    }
   ],
   "source": [
    "loss, accuracy = model.evaluate([X_test_scaled_raw, X_test_scaled_gas], [y_test_raw, y_test_gas])\n",
    "print(\"Test Loss:\", loss)\n",
    "print(\"Test Accuracy:\", accuracy)"
   ]
  },
  {
   "cell_type": "code",
   "execution_count": 17,
   "metadata": {},
   "outputs": [
    {
     "name": "stdout",
     "output_type": "stream",
     "text": [
      "1/1 [==============================] - 1s 624ms/step\n"
     ]
    },
    {
     "data": {
      "text/plain": [
       "array([[1.  ],\n",
       "       [1.  ],\n",
       "       [1.  ],\n",
       "       [1.  ],\n",
       "       [0.  ],\n",
       "       [0.97],\n",
       "       [0.  ],\n",
       "       [0.  ],\n",
       "       [0.  ],\n",
       "       [1.  ],\n",
       "       [0.96],\n",
       "       [0.  ],\n",
       "       [1.  ],\n",
       "       [0.  ],\n",
       "       [1.  ],\n",
       "       [0.  ],\n",
       "       [0.  ],\n",
       "       [0.  ],\n",
       "       [1.  ],\n",
       "       [0.9 ],\n",
       "       [1.  ],\n",
       "       [1.  ],\n",
       "       [0.  ],\n",
       "       [0.79],\n",
       "       [1.  ],\n",
       "       [1.  ],\n",
       "       [0.  ],\n",
       "       [0.  ],\n",
       "       [0.  ],\n",
       "       [0.  ]], dtype=float32)"
      ]
     },
     "execution_count": 17,
     "metadata": {},
     "output_type": "execute_result"
    }
   ],
   "source": [
    "predictions = model.predict([X_test_scaled_raw, X_test_scaled_gas])\n",
    "predictions = np.round(predictions,2)\n",
    "predictions"
   ]
  },
  {
   "cell_type": "code",
   "execution_count": 18,
   "metadata": {},
   "outputs": [
    {
     "data": {
      "image/png": "[encoded data removed]",
      "text/plain": [
       "<Figure size 1200x600 with 2 Axes>"
      ]
     },
     "metadata": {},
     "output_type": "display_data"
    }
   ],
   "source": [
    "# Plot training and validation history\n",
    "plt.figure(figsize=(12, 6))\n",
    "\n",
    "# Plot training & validation accuracy values\n",
    "plt.subplot(1, 2, 1)\n",
    "plt.plot(model_fit.history['accuracy'])\n",
    "plt.plot(model_fit.history['val_accuracy'])  # Add validation accuracy\n",
    "plt.title('Model Accuracy')\n",
    "plt.xlabel('Epoch')\n",
    "plt.ylabel('Accuracy')\n",
    "plt.legend(['Train', 'Validation'], loc='upper left')\n",
    "\n",
    "# Plot training & validation loss values\n",
    "plt.subplot(1, 2, 2)\n",
    "plt.plot(model_fit.history['loss'])\n",
    "plt.plot(model_fit.history['val_loss'])  # Add validation loss\n",
    "plt.title('Model Loss')\n",
    "plt.xlabel('Epoch')\n",
    "plt.ylabel('Loss')\n",
    "plt.legend(['Train', 'Validation'], loc='upper left')\n",
    "\n",
    "plt.tight_layout()\n",
    "# Get current date and time\n",
    "now = datetime.datetime.now()\n",
    "\n",
    "# Format the date-time string as 'MMDDYYYY-HHMM'\n",
    "date_time_str = now.strftime(\"%d%m%Y-%H%M\")\n",
    "\n",
    "# Save the plot with the specified name format\n",
    "plt.savefig(f\"{date_time_str}.png\")\n",
    "\n",
    "plt.show()"
   ]
  },
  {
   "cell_type": "code",
   "execution_count": 21,
   "metadata": {},
   "outputs": [
    {
     "name": "stdout",
     "output_type": "stream",
     "text": [
      "1/1 [==============================] - 0s 291ms/step\n"
     ]
    },
    {
     "data": {
      "image/png": "[encoded data removed]",
      "text/plain": [
       "<Figure size 800x600 with 2 Axes>"
      ]
     },
     "metadata": {},
     "output_type": "display_data"
    }
   ],
   "source": [
    "from sklearn.metrics import confusion_matrix\n",
    "\n",
    "# Generate predictions on the test set\n",
    "y_pred = model.predict([X_test_scaled_raw, X_test_scaled_gas])\n",
    "y_pred_classes = (y_pred > 0.5).astype(int)  # Assuming it's a binary classification problem\n",
    "\n",
    "# Assuming y_test contains the true labels for the test set\n",
    "# Generate the confusion matrix\n",
    "conf_mat = confusion_matrix(y_test_raw, y_pred_classes)\n",
    "\n",
    "# Plot the confusion matrix using seaborn\n",
    "plt.figure(figsize=(8, 6))\n",
    "sns.heatmap(conf_mat, annot=True, fmt='d', cmap='Blues', xticklabels=['Unripe', 'Ripe'], yticklabels=['Unripe', 'Ripe'])\n",
    "plt.title('Confusion Matrix')\n",
    "plt.xlabel('Predicted')\n",
    "plt.ylabel('True')\n",
    "plt.show()"
   ]
  }
 ],
 "metadata": {
  "kernelspec": {
   "display_name": "Python 3",
   "language": "python",
   "name": "python3"
  },
  "language_info": {
   "codemirror_mode": {
    "name": "ipython",
    "version": 3
   },
   "file_extension": ".py",
   "mimetype": "text/x-python",
   "name": "python",
   "nbconvert_exporter": "python",
   "pygments_lexer": "ipython3",
   "version": "3.9.13"
  }
 },
 "nbformat": 4,
 "nbformat_minor": 2
}
