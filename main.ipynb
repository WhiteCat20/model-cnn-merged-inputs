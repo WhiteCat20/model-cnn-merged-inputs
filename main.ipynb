{
 "cells": [
  {
   "cell_type": "code",
   "execution_count": 1,
   "metadata": {},
   "outputs": [],
   "source": [
    "import matplotlib.pyplot as plt\n",
    "import numpy as np\n",
    "import cv2\n",
    "import os\n",
    "import PIL\n",
    "import tensorflow as tf\n",
    "\n",
    "from tensorflow import keras\n",
    "from tensorflow.keras import layers\n",
    "from tensorflow.keras.models import Sequential\n",
    "\n",
    "import pathlib\n",
    "from sklearn.model_selection import train_test_split\n",
    "\n",
    "from sklearn.metrics import confusion_matrix\n",
    "import seaborn as sns"
   ]
  },
  {
   "cell_type": "code",
   "execution_count": 2,
   "metadata": {},
   "outputs": [],
   "source": [
    "# import zipfile\n",
    "\n",
    "# # Unzip the archive into the \"datasets\" folder\n",
    "# local_zip = './merged-datasets.zip'\n",
    "# zip_ref = zipfile.ZipFile(local_zip, 'r')\n",
    "# zip_ref.extractall()\n",
    "# zip_ref.close()"
   ]
  },
  {
   "cell_type": "code",
   "execution_count": 3,
   "metadata": {},
   "outputs": [],
   "source": [
    "# Directory Management for Image datasets\n",
    "data_dir_image = 'datasets/image'\n",
    "data_dir_image = pathlib.Path(data_dir_image)\n",
    "durian_images_dict = {\n",
    "    'ripe' : list(data_dir_image.glob('ripe/*')),\n",
    "    'unripe' : list(data_dir_image.glob('unripe/*')),\n",
    "} \n",
    "durian_labels_dict = {\n",
    "    'ripe' : 0,\n",
    "    'unripe' : 1\n",
    "}"
   ]
  },
  {
   "cell_type": "code",
   "execution_count": 4,
   "metadata": {},
   "outputs": [],
   "source": [
    "# Directory Management for Raw Image datasets\n",
    "data_dir_raw_image = 'datasets/raw image'\n",
    "data_dir_raw_image = pathlib.Path(data_dir_raw_image)\n",
    "raw_durian_images_dict = {\n",
    "    'ripe' : list(data_dir_raw_image.glob('ripe/*')),\n",
    "    'unripe' : list(data_dir_raw_image.glob('unripe/*')),\n",
    "} \n",
    "raw_durian_labels_dict = {\n",
    "    'ripe' : 0,\n",
    "    'unripe' : 1\n",
    "}"
   ]
  },
  {
   "cell_type": "code",
   "execution_count": 5,
   "metadata": {},
   "outputs": [
    {
     "data": {
      "text/plain": [
       "[WindowsPath('datasets/gas/ripe/heatmap_10_percobaan_1.png'),\n",
       " WindowsPath('datasets/gas/ripe/heatmap_10_percobaan_2 - Copy.png'),\n",
       " WindowsPath('datasets/gas/ripe/heatmap_10_percobaan_2.png'),\n",
       " WindowsPath('datasets/gas/ripe/heatmap_10_percobaan_3.png'),\n",
       " WindowsPath('datasets/gas/ripe/heatmap_10_percobaan_4.png')]"
      ]
     },
     "execution_count": 5,
     "metadata": {},
     "output_type": "execute_result"
    }
   ],
   "source": [
    "# Directory Management for Gas datasets\n",
    "data_dir_gas = 'datasets/gas'\n",
    "data_dir_gas = pathlib.Path(data_dir_gas)\n",
    "durian_gas_dict = {\n",
    "    'ripe' : list(data_dir_gas.glob('ripe/*')),\n",
    "    'unripe' : list(data_dir_gas.glob('unripe/*')),\n",
    "} \n",
    "gas_labels_dict = {\n",
    "    'ripe' : 0,\n",
    "    'unripe' : 1\n",
    "}\n",
    "list(data_dir_gas.glob('*/*.png'))[:5]"
   ]
  },
  {
   "cell_type": "code",
   "execution_count": 6,
   "metadata": {},
   "outputs": [
    {
     "data": {
      "text/plain": [
       "array([0, 0, 0, 0, 0, 0, 0, 0, 0, 0, 0, 0, 0, 0, 0, 0, 0, 0, 0, 0, 0, 0,\n",
       "       0, 0, 0, 0, 0, 0, 0, 0, 0, 0, 0, 0, 0, 0, 0, 0, 0, 0, 0, 0, 0, 0,\n",
       "       0, 0, 0, 0, 0, 0, 1, 1, 1, 1, 1, 1, 1, 1, 1, 1, 1, 1, 1, 1, 1, 1,\n",
       "       1, 1, 1, 1, 1, 1, 1, 1, 1, 1, 1, 1, 1, 1, 1, 1, 1, 1, 1, 1, 1, 1,\n",
       "       1, 1, 1, 1, 1, 1, 1, 1, 1, 1, 1, 1])"
      ]
     },
     "execution_count": 6,
     "metadata": {},
     "output_type": "execute_result"
    }
   ],
   "source": [
    "X_image, y_image = [], []\n",
    "for durian_ripeness, images in durian_images_dict.items():\n",
    "    for index, image in enumerate(images):\n",
    "        img = cv2.imread(str(image))\n",
    "        resized_img = cv2.resize(img,(200,200))\n",
    "        X_image.append(resized_img)\n",
    "        y_image.append(durian_labels_dict[durian_ripeness])\n",
    "X_image = np.array(X_image)\n",
    "y_image = np.array(y_image)\n",
    "y_image"
   ]
  },
  {
   "cell_type": "code",
   "execution_count": 7,
   "metadata": {},
   "outputs": [
    {
     "data": {
      "text/plain": [
       "array([0, 0, 0, 0, 0, 0, 0, 0, 0, 0, 0, 0, 0, 0, 0, 0, 0, 0, 0, 0, 0, 0,\n",
       "       0, 0, 0, 0, 0, 0, 0, 0, 0, 0, 0, 0, 0, 0, 0, 0, 0, 0, 0, 0, 0, 0,\n",
       "       0, 0, 0, 0, 0, 0, 1, 1, 1, 1, 1, 1, 1, 1, 1, 1, 1, 1, 1, 1, 1, 1,\n",
       "       1, 1, 1, 1, 1, 1, 1, 1, 1, 1, 1, 1, 1, 1, 1, 1, 1, 1, 1, 1, 1, 1,\n",
       "       1, 1, 1, 1, 1, 1, 1, 1, 1, 1, 1, 1])"
      ]
     },
     "execution_count": 7,
     "metadata": {},
     "output_type": "execute_result"
    }
   ],
   "source": [
    "X_raw, y_raw = [], []\n",
    "output_folder = \"resized_images\"\n",
    "for durian_ripeness, images in raw_durian_images_dict.items():\n",
    "    for index, image in enumerate(images):\n",
    "        img = cv2.imread(str(image))\n",
    "        resized_img = cv2.resize(img,(200,200))\n",
    "        X_raw.append(resized_img)\n",
    "        y_raw.append(raw_durian_labels_dict[durian_ripeness])\n",
    "        # Uncomment if you want to check all the resized images\n",
    "        # output_name = f\"{durian_ripeness}_{index}.jpg\"\n",
    "        # output_path = os.path.join(output_folder, output_name)\n",
    "        # cv2.imwrite(output_path, resized_img)\n",
    "X_raw = np.array(X_raw)\n",
    "y_raw = np.array(y_raw)\n",
    "y_raw"
   ]
  },
  {
   "cell_type": "code",
   "execution_count": 8,
   "metadata": {},
   "outputs": [
    {
     "data": {
      "text/plain": [
       "array([0, 0, 0, 0, 0, 0, 0, 0, 0, 0, 0, 0, 0, 0, 0, 0, 0, 0, 0, 0, 0, 0,\n",
       "       0, 0, 0, 0, 0, 0, 0, 0, 0, 0, 0, 0, 0, 0, 0, 0, 0, 0, 0, 0, 0, 0,\n",
       "       0, 0, 0, 0, 0, 0, 1, 1, 1, 1, 1, 1, 1, 1, 1, 1, 1, 1, 1, 1, 1, 1,\n",
       "       1, 1, 1, 1, 1, 1, 1, 1, 1, 1, 1, 1, 1, 1, 1, 1, 1, 1, 1, 1, 1, 1,\n",
       "       1, 1, 1, 1, 1, 1, 1, 1, 1, 1, 1, 1])"
      ]
     },
     "execution_count": 8,
     "metadata": {},
     "output_type": "execute_result"
    }
   ],
   "source": [
    "X_gas, y_gas = [], []\n",
    "for durian_ripeness, images in durian_gas_dict.items():\n",
    "    for index, image in enumerate(images):\n",
    "        img = cv2.imread(str(image))\n",
    "        resized_img = cv2.resize(img,(200,200))\n",
    "        X_gas.append(resized_img)\n",
    "        y_gas.append(gas_labels_dict[durian_ripeness])\n",
    "X_gas = np.array(X_gas)\n",
    "y_gas = np.array(y_gas)\n",
    "y_gas"
   ]
  },
  {
   "cell_type": "code",
   "execution_count": 9,
   "metadata": {},
   "outputs": [],
   "source": [
    "from sklearn.model_selection import train_test_split\n",
    "X_train_image, X_test_image, y_train_image, y_test_image = train_test_split(X_image, y_image, random_state=0)\n",
    "X_train_raw, X_test_raw, y_train_raw, y_test_raw = train_test_split(X_raw, y_raw, random_state=0)\n",
    "X_train_gas, X_test_gas, y_train_gas, y_test_gas = train_test_split(X_gas, y_gas, random_state=0)\n",
    "# Scaling Image dataset\n",
    "X_train_scaled_image = X_train_image /255\n",
    "X_test_scaled_image = X_test_image /255\n",
    "# Scaling Raw dataset\n",
    "X_train_scaled_raw = X_train_raw /255\n",
    "X_test_scaled_raw = X_test_raw /255\n",
    "# Scaling Gas dataset\n",
    "X_train_scaled_gas = X_train_gas /255\n",
    "X_test_scaled_gas = X_test_gas /255"
   ]
  },
  {
   "cell_type": "code",
   "execution_count": 10,
   "metadata": {},
   "outputs": [],
   "source": [
    "from tensorflow.keras.layers import Input, Conv2D, MaxPooling2D, Dropout, Flatten, Dense, concatenate\n",
    "from tensorflow.keras.models import Model\n",
    "\n",
    "input_shape_image = (200, 200, 3)  \n",
    "input_shape_raw = (200, 200, 3)  \n",
    "input_shape_gas = (200, 200, 3)  \n",
    "\n",
    "\n",
    "# Define two separate input layers\n",
    "input_image = Input(shape=input_shape_image)\n",
    "input_raw = Input(shape=input_shape_raw)\n",
    "input_gas = Input(shape=input_shape_gas)"
   ]
  },
  {
   "cell_type": "code",
   "execution_count": 11,
   "metadata": {},
   "outputs": [],
   "source": [
    "convDim = 3  # Define the convolution dimension"
   ]
  },
  {
   "cell_type": "code",
   "execution_count": 12,
   "metadata": {},
   "outputs": [
    {
     "name": "stderr",
     "output_type": "stream",
     "text": [
      "c:\\Users\\induction motor\\AppData\\Local\\Programs\\Python\\Python310\\lib\\site-packages\\keras\\src\\layers\\convolutional\\base_conv.py:99: UserWarning: Do not pass an `input_shape`/`input_dim` argument to a layer. When using Sequential models, prefer using an `Input(shape)` object as the first layer in the model instead.\n",
      "  super().__init__(\n"
     ]
    }
   ],
   "source": [
    "# Convolution layer for Image dataset\n",
    "conv1_image = Conv2D(16, (convDim, convDim), activation='relu', input_shape=input_shape_image)(input_image)\n",
    "pool1_image = MaxPooling2D(2, 2)(conv1_image)\n",
    "drop1_image = Dropout(0.25)(pool1_image)\n",
    "\n",
    "conv2_image = Conv2D(32, (convDim, convDim), activation='relu')(drop1_image)\n",
    "pool2_image = MaxPooling2D(2, 2)(conv2_image)\n",
    "drop2_image = Dropout(0.25)(pool2_image)\n",
    "\n",
    "conv3_image = Conv2D(64, (convDim, convDim), activation='relu')(drop2_image)\n",
    "pool3_image = MaxPooling2D(2, 2)(conv3_image)\n",
    "drop3_image = Dropout(0.2)(pool3_image)\n",
    "\n",
    "flat_image = Flatten()(drop3_image)"
   ]
  },
  {
   "cell_type": "code",
   "execution_count": 13,
   "metadata": {},
   "outputs": [],
   "source": [
    "# Convolution layer for Raw dataset\n",
    "conv1_raw = Conv2D(16, (convDim, convDim), activation='relu', input_shape=input_shape_raw)(input_raw)\n",
    "pool1_raw = MaxPooling2D(2, 2)(conv1_raw)\n",
    "drop1_raw = Dropout(0.25)(pool1_raw)\n",
    "\n",
    "conv2_raw = Conv2D(32, (convDim, convDim), activation='relu')(drop1_raw)\n",
    "pool2_raw = MaxPooling2D(2, 2)(conv2_raw)\n",
    "drop2_raw = Dropout(0.25)(pool2_raw)\n",
    "\n",
    "conv3_raw = Conv2D(64, (convDim, convDim), activation='relu')(drop2_raw)\n",
    "pool3_raw = MaxPooling2D(2, 2)(conv3_raw)\n",
    "drop3_raw = Dropout(0.2)(pool3_raw)\n",
    "\n",
    "flat_raw = Flatten()(drop3_raw)"
   ]
  },
  {
   "cell_type": "code",
   "execution_count": 14,
   "metadata": {},
   "outputs": [],
   "source": [
    "# Convolution layer for Gas dataset\n",
    "conv1_gas = Conv2D(16, (convDim, convDim), activation='relu', input_shape=input_shape_gas)(input_gas)\n",
    "pool1_gas = MaxPooling2D(2, 2)(conv1_gas)\n",
    "drop1_gas = Dropout(0.25)(pool1_gas)\n",
    "\n",
    "conv2_gas = Conv2D(32, (convDim, convDim), activation='relu')(drop1_gas)\n",
    "pool2_gas = MaxPooling2D(2, 2)(conv2_gas)\n",
    "drop2_gas = Dropout(0.25)(pool2_gas)\n",
    "\n",
    "conv3_gas = Conv2D(64, (convDim, convDim), activation='relu')(drop2_gas)\n",
    "pool3_gas = MaxPooling2D(2, 2)(conv3_gas)\n",
    "drop3_gas = Dropout(0.2)(pool3_gas)\n",
    "\n",
    "flat_gas = Flatten()(drop3_gas)"
   ]
  },
  {
   "cell_type": "code",
   "execution_count": 15,
   "metadata": {},
   "outputs": [],
   "source": [
    "# Concatenate the flattened outputs\n",
    "merged = concatenate([flat_image, flat_raw, flat_gas])"
   ]
  },
  {
   "cell_type": "code",
   "execution_count": 16,
   "metadata": {},
   "outputs": [],
   "source": [
    "# Fully Connected Layer\n",
    "fc1 = Dense(512, activation='relu')(merged)\n",
    "drop_fc1 = Dropout(0.25)(fc1)\n",
    "\n",
    "fc2 = Dense(128, activation='relu')(drop_fc1)\n",
    "drop_fc2 = Dropout(0.25)(fc2)\n",
    "\n",
    "fc3 = Dense(64, activation='relu')(drop_fc2)\n",
    "drop_fc3 = Dropout(0.25)(fc3)\n",
    "\n",
    "fc4 = Dense(8, activation='relu')(drop_fc3)\n",
    "drop_fc4 = Dropout(0.25)(fc4)\n",
    "\n",
    "output = Dense(1, activation='sigmoid')(drop_fc4)\n",
    "\n",
    "# Create the model\n",
    "model = Model(inputs=[input_image, input_raw, input_gas], outputs=output)"
   ]
  },
  {
   "cell_type": "code",
   "execution_count": 17,
   "metadata": {},
   "outputs": [
    {
     "name": "stdout",
     "output_type": "stream",
     "text": [
      "You must install pydot (`pip install pydot`) for `plot_model` to work.\n"
     ]
    }
   ],
   "source": [
    "# Compile the model\n",
    "model.compile(optimizer='adam', loss='binary_crossentropy', metrics=['accuracy'], run_eagerly=True)\n",
    "from tensorflow.keras.utils import plot_model\n",
    "\n",
    "# Print model summary\n",
    "# model.summary()\n",
    "plot_model(model, to_file='custom-cnn.png', show_shapes=False, show_layer_names=True)"
   ]
  },
  {
   "cell_type": "code",
   "execution_count": 18,
   "metadata": {},
   "outputs": [],
   "source": [
    "class myCallback(tf.keras.callbacks.Callback):\n",
    "  def on_epoch_end(self, epoch, logs={}):\n",
    "    # Check the loss\n",
    "    if(logs.get('accuracy') == 1.0):\n",
    "\n",
    "      # Stop if threshold is met\n",
    "      print(\"\\nAccuracy is reached than 1.0 so cancelling training!\")\n",
    "      self.model.stop_training = True\n",
    "\n",
    "# Instantiate class\n",
    "callbacks = myCallback()\n",
    "# callbacks=callbacks"
   ]
  },
  {
   "cell_type": "code",
   "execution_count": 19,
   "metadata": {},
   "outputs": [
    {
     "name": "stdout",
     "output_type": "stream",
     "text": [
      "Epoch 1/100\n",
      "\u001b[1m3/3\u001b[0m \u001b[32m━━━━━━━━━━━━━━━━━━━━\u001b[0m\u001b[37m\u001b[0m \u001b[1m5s\u001b[0m 1s/step - accuracy: 0.4771 - loss: 1.2463 - val_accuracy: 0.8400 - val_loss: 0.5885\n",
      "Epoch 2/100\n",
      "\u001b[1m3/3\u001b[0m \u001b[32m━━━━━━━━━━━━━━━━━━━━\u001b[0m\u001b[37m\u001b[0m \u001b[1m4s\u001b[0m 1s/step - accuracy: 0.5847 - loss: 0.9139 - val_accuracy: 1.0000 - val_loss: 0.5944\n",
      "Epoch 3/100\n",
      "\u001b[1m3/3\u001b[0m \u001b[32m━━━━━━━━━━━━━━━━━━━━\u001b[0m\u001b[37m\u001b[0m \u001b[1m4s\u001b[0m 1s/step - accuracy: 0.6408 - loss: 0.5331 - val_accuracy: 0.8000 - val_loss: 0.6082\n",
      "Epoch 4/100\n",
      "\u001b[1m3/3\u001b[0m \u001b[32m━━━━━━━━━━━━━━━━━━━━\u001b[0m\u001b[37m\u001b[0m \u001b[1m4s\u001b[0m 1s/step - accuracy: 0.7890 - loss: 0.4678 - val_accuracy: 0.8800 - val_loss: 0.5360\n",
      "Epoch 5/100\n",
      "\u001b[1m3/3\u001b[0m \u001b[32m━━━━━━━━━━━━━━━━━━━━\u001b[0m\u001b[37m\u001b[0m \u001b[1m4s\u001b[0m 1s/step - accuracy: 0.8223 - loss: 0.3936 - val_accuracy: 1.0000 - val_loss: 0.3596\n",
      "Epoch 6/100\n",
      "\u001b[1m3/3\u001b[0m \u001b[32m━━━━━━━━━━━━━━━━━━━━\u001b[0m\u001b[37m\u001b[0m \u001b[1m4s\u001b[0m 1s/step - accuracy: 0.9432 - loss: 0.1980 - val_accuracy: 1.0000 - val_loss: 0.1923\n",
      "Epoch 7/100\n",
      "\u001b[1m3/3\u001b[0m \u001b[32m━━━━━━━━━━━━━━━━━━━━\u001b[0m\u001b[37m\u001b[0m \u001b[1m4s\u001b[0m 1s/step - accuracy: 0.9549 - loss: 0.1243 - val_accuracy: 1.0000 - val_loss: 0.1075\n",
      "Epoch 8/100\n",
      "\u001b[1m3/3\u001b[0m \u001b[32m━━━━━━━━━━━━━━━━━━━━\u001b[0m\u001b[37m\u001b[0m \u001b[1m4s\u001b[0m 1s/step - accuracy: 0.9510 - loss: 0.2473 - val_accuracy: 1.0000 - val_loss: 0.0849\n",
      "Epoch 9/100\n",
      "\u001b[1m3/3\u001b[0m \u001b[32m━━━━━━━━━━━━━━━━━━━━\u001b[0m\u001b[37m\u001b[0m \u001b[1m4s\u001b[0m 1s/step - accuracy: 0.9354 - loss: 0.1252 - val_accuracy: 1.0000 - val_loss: 0.0497\n",
      "Epoch 10/100\n",
      "\u001b[1m3/3\u001b[0m \u001b[32m━━━━━━━━━━━━━━━━━━━━\u001b[0m\u001b[37m\u001b[0m \u001b[1m4s\u001b[0m 1s/step - accuracy: 1.0000 - loss: 0.0096 - val_accuracy: 1.0000 - val_loss: 0.0506\n",
      "Epoch 11/100\n",
      "\u001b[1m3/3\u001b[0m \u001b[32m━━━━━━━━━━━━━━━━━━━━\u001b[0m\u001b[37m\u001b[0m \u001b[1m4s\u001b[0m 1s/step - accuracy: 0.9816 - loss: 0.0595 - val_accuracy: 0.9600 - val_loss: 0.0734\n",
      "Epoch 12/100\n",
      "\u001b[1m3/3\u001b[0m \u001b[32m━━━━━━━━━━━━━━━━━━━━\u001b[0m\u001b[37m\u001b[0m \u001b[1m4s\u001b[0m 1s/step - accuracy: 0.9460 - loss: 0.1275 - val_accuracy: 1.0000 - val_loss: 0.0363\n",
      "Epoch 13/100\n",
      "\u001b[1m3/3\u001b[0m \u001b[32m━━━━━━━━━━━━━━━━━━━━\u001b[0m\u001b[37m\u001b[0m \u001b[1m4s\u001b[0m 1s/step - accuracy: 0.9933 - loss: 0.0554 - val_accuracy: 1.0000 - val_loss: 0.0211\n",
      "Epoch 14/100\n",
      "\u001b[1m3/3\u001b[0m \u001b[32m━━━━━━━━━━━━━━━━━━━━\u001b[0m\u001b[37m\u001b[0m \u001b[1m4s\u001b[0m 1s/step - accuracy: 0.9894 - loss: 0.0280 - val_accuracy: 1.0000 - val_loss: 0.0138\n",
      "Epoch 15/100\n",
      "\u001b[1m3/3\u001b[0m \u001b[32m━━━━━━━━━━━━━━━━━━━━\u001b[0m\u001b[37m\u001b[0m \u001b[1m4s\u001b[0m 1s/step - accuracy: 0.9816 - loss: 0.0300 - val_accuracy: 1.0000 - val_loss: 0.0088\n",
      "Epoch 16/100\n",
      "\u001b[1m3/3\u001b[0m \u001b[32m━━━━━━━━━━━━━━━━━━━━\u001b[0m\u001b[37m\u001b[0m \u001b[1m4s\u001b[0m 1s/step - accuracy: 1.0000 - loss: 0.0206 - val_accuracy: 1.0000 - val_loss: 0.0047\n",
      "Epoch 17/100\n",
      "\u001b[1m3/3\u001b[0m \u001b[32m━━━━━━━━━━━━━━━━━━━━\u001b[0m\u001b[37m\u001b[0m \u001b[1m4s\u001b[0m 1s/step - accuracy: 0.9816 - loss: 0.0301 - val_accuracy: 1.0000 - val_loss: 0.0025\n",
      "Epoch 18/100\n",
      "\u001b[1m3/3\u001b[0m \u001b[32m━━━━━━━━━━━━━━━━━━━━\u001b[0m\u001b[37m\u001b[0m \u001b[1m4s\u001b[0m 1s/step - accuracy: 1.0000 - loss: 0.0079 - val_accuracy: 1.0000 - val_loss: 0.0015\n",
      "Epoch 19/100\n",
      "\u001b[1m3/3\u001b[0m \u001b[32m━━━━━━━━━━━━━━━━━━━━\u001b[0m\u001b[37m\u001b[0m \u001b[1m4s\u001b[0m 1s/step - accuracy: 0.9894 - loss: 0.0382 - val_accuracy: 1.0000 - val_loss: 0.0012\n",
      "Epoch 20/100\n",
      "\u001b[1m3/3\u001b[0m \u001b[32m━━━━━━━━━━━━━━━━━━━━\u001b[0m\u001b[37m\u001b[0m \u001b[1m4s\u001b[0m 1s/step - accuracy: 0.9894 - loss: 0.0119 - val_accuracy: 1.0000 - val_loss: 0.0010\n",
      "Epoch 21/100\n",
      "\u001b[1m3/3\u001b[0m \u001b[32m━━━━━━━━━━━━━━━━━━━━\u001b[0m\u001b[37m\u001b[0m \u001b[1m4s\u001b[0m 1s/step - accuracy: 1.0000 - loss: 0.0054 - val_accuracy: 1.0000 - val_loss: 8.6133e-04\n",
      "Epoch 22/100\n",
      "\u001b[1m3/3\u001b[0m \u001b[32m━━━━━━━━━━━━━━━━━━━━\u001b[0m\u001b[37m\u001b[0m \u001b[1m4s\u001b[0m 1s/step - accuracy: 1.0000 - loss: 4.7985e-04 - val_accuracy: 1.0000 - val_loss: 7.4432e-04\n",
      "Epoch 23/100\n",
      "\u001b[1m3/3\u001b[0m \u001b[32m━━━━━━━━━━━━━━━━━━━━\u001b[0m\u001b[37m\u001b[0m \u001b[1m4s\u001b[0m 1s/step - accuracy: 0.9816 - loss: 0.1856 - val_accuracy: 1.0000 - val_loss: 0.0019\n",
      "Epoch 24/100\n",
      "\u001b[1m3/3\u001b[0m \u001b[32m━━━━━━━━━━━━━━━━━━━━\u001b[0m\u001b[37m\u001b[0m \u001b[1m4s\u001b[0m 1s/step - accuracy: 1.0000 - loss: 0.0054 - val_accuracy: 1.0000 - val_loss: 0.0032\n",
      "Epoch 25/100\n",
      "\u001b[1m3/3\u001b[0m \u001b[32m━━━━━━━━━━━━━━━━━━━━\u001b[0m\u001b[37m\u001b[0m \u001b[1m4s\u001b[0m 1s/step - accuracy: 0.9816 - loss: 0.2552 - val_accuracy: 1.0000 - val_loss: 0.0061\n",
      "Epoch 26/100\n",
      "\u001b[1m3/3\u001b[0m \u001b[32m━━━━━━━━━━━━━━━━━━━━\u001b[0m\u001b[37m\u001b[0m \u001b[1m4s\u001b[0m 1s/step - accuracy: 1.0000 - loss: 0.0108 - val_accuracy: 1.0000 - val_loss: 0.0076\n",
      "Epoch 27/100\n",
      "\u001b[1m3/3\u001b[0m \u001b[32m━━━━━━━━━━━━━━━━━━━━\u001b[0m\u001b[37m\u001b[0m \u001b[1m4s\u001b[0m 1s/step - accuracy: 0.9816 - loss: 0.0275 - val_accuracy: 1.0000 - val_loss: 0.0076\n",
      "Epoch 28/100\n",
      "\u001b[1m3/3\u001b[0m \u001b[32m━━━━━━━━━━━━━━━━━━━━\u001b[0m\u001b[37m\u001b[0m \u001b[1m4s\u001b[0m 1s/step - accuracy: 1.0000 - loss: 0.0026 - val_accuracy: 1.0000 - val_loss: 0.0067\n",
      "Epoch 29/100\n",
      "\u001b[1m3/3\u001b[0m \u001b[32m━━━━━━━━━━━━━━━━━━━━\u001b[0m\u001b[37m\u001b[0m \u001b[1m4s\u001b[0m 1s/step - accuracy: 1.0000 - loss: 0.0034 - val_accuracy: 1.0000 - val_loss: 0.0054\n",
      "Epoch 30/100\n",
      "\u001b[1m3/3\u001b[0m \u001b[32m━━━━━━━━━━━━━━━━━━━━\u001b[0m\u001b[37m\u001b[0m \u001b[1m4s\u001b[0m 1s/step - accuracy: 1.0000 - loss: 6.5750e-04 - val_accuracy: 1.0000 - val_loss: 0.0043\n",
      "Epoch 31/100\n",
      "\u001b[1m3/3\u001b[0m \u001b[32m━━━━━━━━━━━━━━━━━━━━\u001b[0m\u001b[37m\u001b[0m \u001b[1m4s\u001b[0m 1s/step - accuracy: 1.0000 - loss: 4.3083e-04 - val_accuracy: 1.0000 - val_loss: 0.0035\n",
      "Epoch 32/100\n",
      "\u001b[1m3/3\u001b[0m \u001b[32m━━━━━━━━━━━━━━━━━━━━\u001b[0m\u001b[37m\u001b[0m \u001b[1m4s\u001b[0m 1s/step - accuracy: 1.0000 - loss: 1.9410e-04 - val_accuracy: 1.0000 - val_loss: 0.0030\n",
      "Epoch 33/100\n",
      "\u001b[1m3/3\u001b[0m \u001b[32m━━━━━━━━━━━━━━━━━━━━\u001b[0m\u001b[37m\u001b[0m \u001b[1m4s\u001b[0m 1s/step - accuracy: 0.9816 - loss: 0.0186 - val_accuracy: 1.0000 - val_loss: 0.0025\n",
      "Epoch 34/100\n",
      "\u001b[1m3/3\u001b[0m \u001b[32m━━━━━━━━━━━━━━━━━━━━\u001b[0m\u001b[37m\u001b[0m \u001b[1m4s\u001b[0m 1s/step - accuracy: 0.9933 - loss: 0.0229 - val_accuracy: 1.0000 - val_loss: 0.0021\n",
      "Epoch 35/100\n",
      "\u001b[1m3/3\u001b[0m \u001b[32m━━━━━━━━━━━━━━━━━━━━\u001b[0m\u001b[37m\u001b[0m \u001b[1m4s\u001b[0m 1s/step - accuracy: 0.9710 - loss: 0.0203 - val_accuracy: 1.0000 - val_loss: 0.0016\n",
      "Epoch 36/100\n",
      "\u001b[1m3/3\u001b[0m \u001b[32m━━━━━━━━━━━━━━━━━━━━\u001b[0m\u001b[37m\u001b[0m \u001b[1m4s\u001b[0m 1s/step - accuracy: 1.0000 - loss: 0.0216 - val_accuracy: 1.0000 - val_loss: 8.5338e-04\n",
      "Epoch 37/100\n",
      "\u001b[1m3/3\u001b[0m \u001b[32m━━━━━━━━━━━━━━━━━━━━\u001b[0m\u001b[37m\u001b[0m \u001b[1m4s\u001b[0m 1s/step - accuracy: 1.0000 - loss: 0.0042 - val_accuracy: 1.0000 - val_loss: 5.0641e-04\n",
      "Epoch 38/100\n",
      "\u001b[1m3/3\u001b[0m \u001b[32m━━━━━━━━━━━━━━━━━━━━\u001b[0m\u001b[37m\u001b[0m \u001b[1m4s\u001b[0m 1s/step - accuracy: 0.9894 - loss: 0.0090 - val_accuracy: 1.0000 - val_loss: 3.1695e-04\n",
      "Epoch 39/100\n",
      "\u001b[1m3/3\u001b[0m \u001b[32m━━━━━━━━━━━━━━━━━━━━\u001b[0m\u001b[37m\u001b[0m \u001b[1m4s\u001b[0m 1s/step - accuracy: 1.0000 - loss: 0.0118 - val_accuracy: 1.0000 - val_loss: 1.7023e-04\n",
      "Epoch 40/100\n",
      "\u001b[1m3/3\u001b[0m \u001b[32m━━━━━━━━━━━━━━━━━━━━\u001b[0m\u001b[37m\u001b[0m \u001b[1m4s\u001b[0m 1s/step - accuracy: 0.9894 - loss: 0.0097 - val_accuracy: 1.0000 - val_loss: 9.8237e-05\n",
      "Epoch 41/100\n",
      "\u001b[1m3/3\u001b[0m \u001b[32m━━━━━━━━━━━━━━━━━━━━\u001b[0m\u001b[37m\u001b[0m \u001b[1m4s\u001b[0m 1s/step - accuracy: 1.0000 - loss: 6.8980e-05 - val_accuracy: 1.0000 - val_loss: 6.3055e-05\n",
      "Epoch 42/100\n",
      "\u001b[1m3/3\u001b[0m \u001b[32m━━━━━━━━━━━━━━━━━━━━\u001b[0m\u001b[37m\u001b[0m \u001b[1m4s\u001b[0m 1s/step - accuracy: 1.0000 - loss: 1.9206e-04 - val_accuracy: 1.0000 - val_loss: 4.4374e-05\n",
      "Epoch 43/100\n",
      "\u001b[1m3/3\u001b[0m \u001b[32m━━━━━━━━━━━━━━━━━━━━\u001b[0m\u001b[37m\u001b[0m \u001b[1m4s\u001b[0m 1s/step - accuracy: 1.0000 - loss: 4.2309e-04 - val_accuracy: 1.0000 - val_loss: 3.3114e-05\n",
      "Epoch 44/100\n",
      "\u001b[1m3/3\u001b[0m \u001b[32m━━━━━━━━━━━━━━━━━━━━\u001b[0m\u001b[37m\u001b[0m \u001b[1m4s\u001b[0m 1s/step - accuracy: 0.9749 - loss: 0.0257 - val_accuracy: 1.0000 - val_loss: 3.1624e-05\n",
      "Epoch 45/100\n",
      "\u001b[1m3/3\u001b[0m \u001b[32m━━━━━━━━━━━━━━━━━━━━\u001b[0m\u001b[37m\u001b[0m \u001b[1m4s\u001b[0m 1s/step - accuracy: 0.9816 - loss: 0.0119 - val_accuracy: 1.0000 - val_loss: 4.2028e-05\n",
      "Epoch 46/100\n",
      "\u001b[1m3/3\u001b[0m \u001b[32m━━━━━━━━━━━━━━━━━━━━\u001b[0m\u001b[37m\u001b[0m \u001b[1m4s\u001b[0m 1s/step - accuracy: 1.0000 - loss: 3.7443e-04 - val_accuracy: 1.0000 - val_loss: 5.1554e-05\n",
      "Epoch 47/100\n",
      "\u001b[1m3/3\u001b[0m \u001b[32m━━━━━━━━━━━━━━━━━━━━\u001b[0m\u001b[37m\u001b[0m \u001b[1m4s\u001b[0m 1s/step - accuracy: 1.0000 - loss: 0.0031 - val_accuracy: 1.0000 - val_loss: 5.5478e-05\n",
      "Epoch 48/100\n",
      "\u001b[1m3/3\u001b[0m \u001b[32m━━━━━━━━━━━━━━━━━━━━\u001b[0m\u001b[37m\u001b[0m \u001b[1m4s\u001b[0m 1s/step - accuracy: 1.0000 - loss: 0.0105 - val_accuracy: 1.0000 - val_loss: 5.5631e-05\n",
      "Epoch 49/100\n",
      "\u001b[1m3/3\u001b[0m \u001b[32m━━━━━━━━━━━━━━━━━━━━\u001b[0m\u001b[37m\u001b[0m \u001b[1m4s\u001b[0m 1s/step - accuracy: 1.0000 - loss: 7.5708e-04 - val_accuracy: 1.0000 - val_loss: 5.4138e-05\n",
      "Epoch 50/100\n",
      "\u001b[1m3/3\u001b[0m \u001b[32m━━━━━━━━━━━━━━━━━━━━\u001b[0m\u001b[37m\u001b[0m \u001b[1m4s\u001b[0m 1s/step - accuracy: 1.0000 - loss: 3.9795e-04 - val_accuracy: 1.0000 - val_loss: 4.9083e-05\n",
      "Epoch 51/100\n",
      "\u001b[1m3/3\u001b[0m \u001b[32m━━━━━━━━━━━━━━━━━━━━\u001b[0m\u001b[37m\u001b[0m \u001b[1m4s\u001b[0m 1s/step - accuracy: 1.0000 - loss: 7.1577e-07 - val_accuracy: 1.0000 - val_loss: 4.3661e-05\n",
      "Epoch 52/100\n",
      "\u001b[1m3/3\u001b[0m \u001b[32m━━━━━━━━━━━━━━━━━━━━\u001b[0m\u001b[37m\u001b[0m \u001b[1m4s\u001b[0m 1s/step - accuracy: 1.0000 - loss: 0.0124 - val_accuracy: 1.0000 - val_loss: 3.6597e-05\n",
      "Epoch 53/100\n",
      "\u001b[1m3/3\u001b[0m \u001b[32m━━━━━━━━━━━━━━━━━━━━\u001b[0m\u001b[37m\u001b[0m \u001b[1m4s\u001b[0m 1s/step - accuracy: 1.0000 - loss: 0.0065 - val_accuracy: 1.0000 - val_loss: 2.7479e-05\n",
      "Epoch 54/100\n",
      "\u001b[1m3/3\u001b[0m \u001b[32m━━━━━━━━━━━━━━━━━━━━\u001b[0m\u001b[37m\u001b[0m \u001b[1m4s\u001b[0m 1s/step - accuracy: 1.0000 - loss: 7.1780e-05 - val_accuracy: 1.0000 - val_loss: 2.1826e-05\n",
      "Epoch 55/100\n",
      "\u001b[1m3/3\u001b[0m \u001b[32m━━━━━━━━━━━━━━━━━━━━\u001b[0m\u001b[37m\u001b[0m \u001b[1m4s\u001b[0m 1s/step - accuracy: 0.9894 - loss: 0.0139 - val_accuracy: 1.0000 - val_loss: 2.1990e-05\n",
      "Epoch 56/100\n",
      "\u001b[1m3/3\u001b[0m \u001b[32m━━━━━━━━━━━━━━━━━━━━\u001b[0m\u001b[37m\u001b[0m \u001b[1m4s\u001b[0m 1s/step - accuracy: 1.0000 - loss: 3.1182e-06 - val_accuracy: 1.0000 - val_loss: 2.3797e-05\n",
      "Epoch 57/100\n",
      "\u001b[1m3/3\u001b[0m \u001b[32m━━━━━━━━━━━━━━━━━━━━\u001b[0m\u001b[37m\u001b[0m \u001b[1m4s\u001b[0m 1s/step - accuracy: 1.0000 - loss: 4.3141e-05 - val_accuracy: 1.0000 - val_loss: 2.5106e-05\n",
      "Epoch 58/100\n",
      "\u001b[1m3/3\u001b[0m \u001b[32m━━━━━━━━━━━━━━━━━━━━\u001b[0m\u001b[37m\u001b[0m \u001b[1m4s\u001b[0m 1s/step - accuracy: 1.0000 - loss: 0.0117 - val_accuracy: 1.0000 - val_loss: 2.5982e-05\n",
      "Epoch 59/100\n",
      "\u001b[1m3/3\u001b[0m \u001b[32m━━━━━━━━━━━━━━━━━━━━\u001b[0m\u001b[37m\u001b[0m \u001b[1m4s\u001b[0m 1s/step - accuracy: 1.0000 - loss: 9.7706e-05 - val_accuracy: 1.0000 - val_loss: 2.6317e-05\n",
      "Epoch 60/100\n",
      "\u001b[1m3/3\u001b[0m \u001b[32m━━━━━━━━━━━━━━━━━━━━\u001b[0m\u001b[37m\u001b[0m \u001b[1m4s\u001b[0m 1s/step - accuracy: 0.9632 - loss: 0.0571 - val_accuracy: 1.0000 - val_loss: 5.2640e-05\n",
      "Epoch 61/100\n",
      "\u001b[1m3/3\u001b[0m \u001b[32m━━━━━━━━━━━━━━━━━━━━\u001b[0m\u001b[37m\u001b[0m \u001b[1m4s\u001b[0m 1s/step - accuracy: 1.0000 - loss: 0.0011 - val_accuracy: 1.0000 - val_loss: 8.6802e-05\n",
      "Epoch 62/100\n",
      "\u001b[1m3/3\u001b[0m \u001b[32m━━━━━━━━━━━━━━━━━━━━\u001b[0m\u001b[37m\u001b[0m \u001b[1m4s\u001b[0m 1s/step - accuracy: 0.9816 - loss: 0.0149 - val_accuracy: 1.0000 - val_loss: 7.4367e-05\n",
      "Epoch 63/100\n",
      "\u001b[1m3/3\u001b[0m \u001b[32m━━━━━━━━━━━━━━━━━━━━\u001b[0m\u001b[37m\u001b[0m \u001b[1m4s\u001b[0m 1s/step - accuracy: 0.9789 - loss: 0.0143 - val_accuracy: 1.0000 - val_loss: 5.2392e-05\n",
      "Epoch 64/100\n",
      "\u001b[1m3/3\u001b[0m \u001b[32m━━━━━━━━━━━━━━━━━━━━\u001b[0m\u001b[37m\u001b[0m \u001b[1m4s\u001b[0m 1s/step - accuracy: 0.9894 - loss: 0.0070 - val_accuracy: 1.0000 - val_loss: 3.5087e-05\n",
      "Epoch 65/100\n",
      "\u001b[1m3/3\u001b[0m \u001b[32m━━━━━━━━━━━━━━━━━━━━\u001b[0m\u001b[37m\u001b[0m \u001b[1m4s\u001b[0m 1s/step - accuracy: 1.0000 - loss: 0.0283 - val_accuracy: 1.0000 - val_loss: 2.5921e-05\n",
      "Epoch 66/100\n",
      "\u001b[1m3/3\u001b[0m \u001b[32m━━━━━━━━━━━━━━━━━━━━\u001b[0m\u001b[37m\u001b[0m \u001b[1m4s\u001b[0m 1s/step - accuracy: 0.9816 - loss: 0.0119 - val_accuracy: 1.0000 - val_loss: 2.0417e-05\n",
      "Epoch 67/100\n",
      "\u001b[1m3/3\u001b[0m \u001b[32m━━━━━━━━━━━━━━━━━━━━\u001b[0m\u001b[37m\u001b[0m \u001b[1m4s\u001b[0m 1s/step - accuracy: 1.0000 - loss: 0.0134 - val_accuracy: 1.0000 - val_loss: 1.5553e-05\n",
      "Epoch 68/100\n",
      "\u001b[1m3/3\u001b[0m \u001b[32m━━━━━━━━━━━━━━━━━━━━\u001b[0m\u001b[37m\u001b[0m \u001b[1m4s\u001b[0m 1s/step - accuracy: 0.9894 - loss: 0.0064 - val_accuracy: 1.0000 - val_loss: 1.3106e-05\n",
      "Epoch 69/100\n",
      "\u001b[1m3/3\u001b[0m \u001b[32m━━━━━━━━━━━━━━━━━━━━\u001b[0m\u001b[37m\u001b[0m \u001b[1m4s\u001b[0m 1s/step - accuracy: 1.0000 - loss: 0.0024 - val_accuracy: 1.0000 - val_loss: 1.0845e-05\n",
      "Epoch 70/100\n",
      "\u001b[1m3/3\u001b[0m \u001b[32m━━━━━━━━━━━━━━━━━━━━\u001b[0m\u001b[37m\u001b[0m \u001b[1m4s\u001b[0m 1s/step - accuracy: 1.0000 - loss: 0.0042 - val_accuracy: 1.0000 - val_loss: 6.8999e-06\n",
      "Epoch 71/100\n",
      "\u001b[1m3/3\u001b[0m \u001b[32m━━━━━━━━━━━━━━━━━━━━\u001b[0m\u001b[37m\u001b[0m \u001b[1m4s\u001b[0m 1s/step - accuracy: 1.0000 - loss: 1.3047e-04 - val_accuracy: 1.0000 - val_loss: 2.8780e-06\n",
      "Epoch 72/100\n",
      "\u001b[1m3/3\u001b[0m \u001b[32m━━━━━━━━━━━━━━━━━━━━\u001b[0m\u001b[37m\u001b[0m \u001b[1m4s\u001b[0m 1s/step - accuracy: 1.0000 - loss: 6.9154e-05 - val_accuracy: 1.0000 - val_loss: 1.4910e-06\n",
      "Epoch 73/100\n",
      "\u001b[1m3/3\u001b[0m \u001b[32m━━━━━━━━━━━━━━━━━━━━\u001b[0m\u001b[37m\u001b[0m \u001b[1m4s\u001b[0m 1s/step - accuracy: 1.0000 - loss: 3.7247e-04 - val_accuracy: 1.0000 - val_loss: 8.7019e-07\n",
      "Epoch 74/100\n",
      "\u001b[1m3/3\u001b[0m \u001b[32m━━━━━━━━━━━━━━━━━━━━\u001b[0m\u001b[37m\u001b[0m \u001b[1m4s\u001b[0m 1s/step - accuracy: 1.0000 - loss: 2.1756e-06 - val_accuracy: 1.0000 - val_loss: 5.3329e-07\n",
      "Epoch 75/100\n",
      "\u001b[1m3/3\u001b[0m \u001b[32m━━━━━━━━━━━━━━━━━━━━\u001b[0m\u001b[37m\u001b[0m \u001b[1m4s\u001b[0m 1s/step - accuracy: 1.0000 - loss: 1.5695e-04 - val_accuracy: 1.0000 - val_loss: 3.6872e-07\n",
      "Epoch 76/100\n",
      "\u001b[1m3/3\u001b[0m \u001b[32m━━━━━━━━━━━━━━━━━━━━\u001b[0m\u001b[37m\u001b[0m \u001b[1m4s\u001b[0m 1s/step - accuracy: 1.0000 - loss: 9.7859e-06 - val_accuracy: 1.0000 - val_loss: 2.7965e-07\n",
      "Epoch 77/100\n",
      "\u001b[1m3/3\u001b[0m \u001b[32m━━━━━━━━━━━━━━━━━━━━\u001b[0m\u001b[37m\u001b[0m \u001b[1m4s\u001b[0m 1s/step - accuracy: 1.0000 - loss: 0.0063 - val_accuracy: 1.0000 - val_loss: 2.2660e-07\n",
      "Epoch 78/100\n",
      "\u001b[1m3/3\u001b[0m \u001b[32m━━━━━━━━━━━━━━━━━━━━\u001b[0m\u001b[37m\u001b[0m \u001b[1m4s\u001b[0m 1s/step - accuracy: 1.0000 - loss: 1.2351e-04 - val_accuracy: 1.0000 - val_loss: 1.9185e-07\n",
      "Epoch 79/100\n",
      "\u001b[1m3/3\u001b[0m \u001b[32m━━━━━━━━━━━━━━━━━━━━\u001b[0m\u001b[37m\u001b[0m \u001b[1m4s\u001b[0m 1s/step - accuracy: 1.0000 - loss: 1.8955e-05 - val_accuracy: 1.0000 - val_loss: 1.6871e-07\n",
      "Epoch 80/100\n",
      "\u001b[1m3/3\u001b[0m \u001b[32m━━━━━━━━━━━━━━━━━━━━\u001b[0m\u001b[37m\u001b[0m \u001b[1m4s\u001b[0m 1s/step - accuracy: 0.9816 - loss: 0.0166 - val_accuracy: 1.0000 - val_loss: 1.4427e-07\n",
      "Epoch 81/100\n",
      "\u001b[1m3/3\u001b[0m \u001b[32m━━━━━━━━━━━━━━━━━━━━\u001b[0m\u001b[37m\u001b[0m \u001b[1m4s\u001b[0m 1s/step - accuracy: 1.0000 - loss: 0.0116 - val_accuracy: 1.0000 - val_loss: 1.2455e-07\n",
      "Epoch 82/100\n",
      "\u001b[1m3/3\u001b[0m \u001b[32m━━━━━━━━━━━━━━━━━━━━\u001b[0m\u001b[37m\u001b[0m \u001b[1m4s\u001b[0m 1s/step - accuracy: 1.0000 - loss: 0.0119 - val_accuracy: 1.0000 - val_loss: 1.0449e-07\n",
      "Epoch 83/100\n",
      "\u001b[1m3/3\u001b[0m \u001b[32m━━━━━━━━━━━━━━━━━━━━\u001b[0m\u001b[37m\u001b[0m \u001b[1m4s\u001b[0m 1s/step - accuracy: 1.0000 - loss: 3.9386e-05 - val_accuracy: 1.0000 - val_loss: 8.9356e-08\n",
      "Epoch 84/100\n",
      "\u001b[1m3/3\u001b[0m \u001b[32m━━━━━━━━━━━━━━━━━━━━\u001b[0m\u001b[37m\u001b[0m \u001b[1m4s\u001b[0m 1s/step - accuracy: 1.0000 - loss: 3.4685e-05 - val_accuracy: 1.0000 - val_loss: 7.9474e-08\n",
      "Epoch 85/100\n",
      "\u001b[1m3/3\u001b[0m \u001b[32m━━━━━━━━━━━━━━━━━━━━\u001b[0m\u001b[37m\u001b[0m \u001b[1m4s\u001b[0m 1s/step - accuracy: 1.0000 - loss: 0.0178 - val_accuracy: 1.0000 - val_loss: 7.2931e-08\n",
      "Epoch 86/100\n",
      "\u001b[1m3/3\u001b[0m \u001b[32m━━━━━━━━━━━━━━━━━━━━\u001b[0m\u001b[37m\u001b[0m \u001b[1m4s\u001b[0m 1s/step - accuracy: 1.0000 - loss: 1.6587e-04 - val_accuracy: 1.0000 - val_loss: 6.8272e-08\n",
      "Epoch 87/100\n",
      "\u001b[1m3/3\u001b[0m \u001b[32m━━━━━━━━━━━━━━━━━━━━\u001b[0m\u001b[37m\u001b[0m \u001b[1m4s\u001b[0m 1s/step - accuracy: 1.0000 - loss: 1.5235e-04 - val_accuracy: 1.0000 - val_loss: 6.4087e-08\n",
      "Epoch 88/100\n",
      "\u001b[1m3/3\u001b[0m \u001b[32m━━━━━━━━━━━━━━━━━━━━\u001b[0m\u001b[37m\u001b[0m \u001b[1m4s\u001b[0m 1s/step - accuracy: 1.0000 - loss: 0.0011 - val_accuracy: 1.0000 - val_loss: 5.7541e-08\n",
      "Epoch 89/100\n",
      "\u001b[1m3/3\u001b[0m \u001b[32m━━━━━━━━━━━━━━━━━━━━\u001b[0m\u001b[37m\u001b[0m \u001b[1m4s\u001b[0m 1s/step - accuracy: 1.0000 - loss: 6.2040e-05 - val_accuracy: 1.0000 - val_loss: 5.2053e-08\n",
      "Epoch 90/100\n",
      "\u001b[1m3/3\u001b[0m \u001b[32m━━━━━━━━━━━━━━━━━━━━\u001b[0m\u001b[37m\u001b[0m \u001b[1m4s\u001b[0m 1s/step - accuracy: 0.9933 - loss: 0.0107 - val_accuracy: 1.0000 - val_loss: 4.7977e-08\n",
      "Epoch 91/100\n",
      "\u001b[1m3/3\u001b[0m \u001b[32m━━━━━━━━━━━━━━━━━━━━\u001b[0m\u001b[37m\u001b[0m \u001b[1m4s\u001b[0m 1s/step - accuracy: 1.0000 - loss: 4.6510e-07 - val_accuracy: 1.0000 - val_loss: 4.5090e-08\n",
      "Epoch 92/100\n",
      "\u001b[1m3/3\u001b[0m \u001b[32m━━━━━━━━━━━━━━━━━━━━\u001b[0m\u001b[37m\u001b[0m \u001b[1m4s\u001b[0m 1s/step - accuracy: 1.0000 - loss: 2.5987e-05 - val_accuracy: 1.0000 - val_loss: 4.3017e-08\n",
      "Epoch 93/100\n",
      "\u001b[1m3/3\u001b[0m \u001b[32m━━━━━━━━━━━━━━━━━━━━\u001b[0m\u001b[37m\u001b[0m \u001b[1m4s\u001b[0m 1s/step - accuracy: 1.0000 - loss: 7.0040e-06 - val_accuracy: 1.0000 - val_loss: 4.1509e-08\n",
      "Epoch 94/100\n",
      "\u001b[1m3/3\u001b[0m \u001b[32m━━━━━━━━━━━━━━━━━━━━\u001b[0m\u001b[37m\u001b[0m \u001b[1m4s\u001b[0m 1s/step - accuracy: 0.9894 - loss: 0.0087 - val_accuracy: 1.0000 - val_loss: 4.7948e-08\n",
      "Epoch 95/100\n",
      "\u001b[1m3/3\u001b[0m \u001b[32m━━━━━━━━━━━━━━━━━━━━\u001b[0m\u001b[37m\u001b[0m \u001b[1m4s\u001b[0m 1s/step - accuracy: 0.9816 - loss: 0.0120 - val_accuracy: 1.0000 - val_loss: 6.2754e-08\n",
      "Epoch 96/100\n",
      "\u001b[1m3/3\u001b[0m \u001b[32m━━━━━━━━━━━━━━━━━━━━\u001b[0m\u001b[37m\u001b[0m \u001b[1m4s\u001b[0m 1s/step - accuracy: 1.0000 - loss: 1.1388e-06 - val_accuracy: 1.0000 - val_loss: 7.9168e-08\n",
      "Epoch 97/100\n",
      "\u001b[1m3/3\u001b[0m \u001b[32m━━━━━━━━━━━━━━━━━━━━\u001b[0m\u001b[37m\u001b[0m \u001b[1m4s\u001b[0m 1s/step - accuracy: 1.0000 - loss: 0.0104 - val_accuracy: 1.0000 - val_loss: 9.5124e-08\n",
      "Epoch 98/100\n",
      "\u001b[1m3/3\u001b[0m \u001b[32m━━━━━━━━━━━━━━━━━━━━\u001b[0m\u001b[37m\u001b[0m \u001b[1m4s\u001b[0m 1s/step - accuracy: 0.9816 - loss: 0.0119 - val_accuracy: 1.0000 - val_loss: 1.0908e-07\n",
      "Epoch 99/100\n",
      "\u001b[1m3/3\u001b[0m \u001b[32m━━━━━━━━━━━━━━━━━━━━\u001b[0m\u001b[37m\u001b[0m \u001b[1m4s\u001b[0m 1s/step - accuracy: 1.0000 - loss: 4.9016e-05 - val_accuracy: 1.0000 - val_loss: 1.2365e-07\n",
      "Epoch 100/100\n",
      "\u001b[1m3/3\u001b[0m \u001b[32m━━━━━━━━━━━━━━━━━━━━\u001b[0m\u001b[37m\u001b[0m \u001b[1m4s\u001b[0m 1s/step - accuracy: 1.0000 - loss: 7.6791e-06 - val_accuracy: 1.0000 - val_loss: 1.3619e-07\n"
     ]
    }
   ],
   "source": [
    "# Train the model\n",
    "model_fit = model.fit(\n",
    " (X_train_scaled_image, X_train_scaled_raw, X_train_scaled_gas), \n",
    " y_train_image, \n",
    " batch_size=32, \n",
    " epochs=100,\n",
    " validation_data=(\n",
    "        (X_test_scaled_image, X_test_scaled_raw, X_test_scaled_gas), \n",
    "        (y_test_image, y_test_raw, y_test_gas)\n",
    "    ),\n",
    "#  callbacks=callbacks\n",
    " )"
   ]
  },
  {
   "cell_type": "code",
   "execution_count": 25,
   "metadata": {},
   "outputs": [
    {
     "name": "stdout",
     "output_type": "stream",
     "text": [
      "\u001b[1m1/1\u001b[0m \u001b[32m━━━━━━━━━━━━━━━━━━━━\u001b[0m\u001b[37m\u001b[0m \u001b[1m0s\u001b[0m 293ms/step - accuracy: 1.0000 - loss: 1.3619e-07\n",
      "Test Loss: 1.361906498686949e-07\n",
      "Test Accuracy: 1.0\n"
     ]
    }
   ],
   "source": [
    "loss, accuracy = model.evaluate([X_test_scaled_image, X_test_scaled_raw, X_test_scaled_gas], [y_test_image, y_test_raw, y_test_gas])\n",
    "print(\"Test Loss:\", loss)\n",
    "print(\"Test Accuracy:\", accuracy)"
   ]
  },
  {
   "cell_type": "code",
   "execution_count": 26,
   "metadata": {},
   "outputs": [
    {
     "data": {
      "image/png": "[encoded data removed]",
      "text/plain": [
       "<Figure size 864x432 with 2 Axes>"
      ]
     },
     "metadata": {
      "needs_background": "light"
     },
     "output_type": "display_data"
    }
   ],
   "source": [
    "# Plot training and validation history\n",
    "plt.figure(figsize=(12, 6))\n",
    "\n",
    "# Plot training & validation accuracy values\n",
    "plt.subplot(1, 2, 1)\n",
    "plt.plot(model_fit.history['accuracy'])\n",
    "plt.plot(model_fit.history['val_accuracy'])  # Add validation accuracy\n",
    "plt.title('Model Accuracy')\n",
    "plt.xlabel('Epoch')\n",
    "plt.ylabel('Accuracy')\n",
    "plt.legend(['Train', 'Validation'], loc='upper left')\n",
    "\n",
    "# Plot training & validation loss values\n",
    "plt.subplot(1, 2, 2)\n",
    "plt.plot(model_fit.history['loss'])\n",
    "plt.plot(model_fit.history['val_loss'])  # Add validation loss\n",
    "plt.title('Model Loss')\n",
    "plt.xlabel('Epoch')\n",
    "plt.ylabel('Loss')\n",
    "plt.legend(['Train', 'Validation'], loc='upper left')\n",
    "\n",
    "plt.tight_layout()\n",
    "plt.show()"
   ]
  },
  {
   "cell_type": "code",
   "execution_count": 27,
   "metadata": {},
   "outputs": [
    {
     "name": "stdout",
     "output_type": "stream",
     "text": [
      "\u001b[1m1/1\u001b[0m \u001b[32m━━━━━━━━━━━━━━━━━━━━\u001b[0m\u001b[37m\u001b[0m \u001b[1m0s\u001b[0m 257ms/step\n"
     ]
    },
    {
     "data": {
      "image/png": "[encoded data removed]",
      "text/plain": [
       "<Figure size 576x432 with 2 Axes>"
      ]
     },
     "metadata": {
      "needs_background": "light"
     },
     "output_type": "display_data"
    }
   ],
   "source": [
    "# Generate predictions on the test set\n",
    "y_pred = model.predict([X_test_scaled_image, X_test_scaled_raw, X_test_scaled_gas])\n",
    "y_pred_classes = (y_pred > 0.5).astype(int)  # Assuming it's a binary classification problem\n",
    "\n",
    "# Generate the confusion matrix\n",
    "conf_mat = confusion_matrix(y_test_image, y_pred_classes)\n",
    "\n",
    "# Plot the confusion matrix using seaborn\n",
    "plt.figure(figsize=(8, 6))\n",
    "sns.heatmap(conf_mat, annot=True, fmt='d', cmap='Blues', xticklabels=['Unripe', 'Ripe'], yticklabels=['Unripe', 'Ripe'])\n",
    "plt.title('Confusion Matrix')\n",
    "plt.xlabel('Predicted')\n",
    "plt.ylabel('True')\n",
    "plt.show()"
   ]
  },
  {
   "cell_type": "code",
   "execution_count": 28,
   "metadata": {},
   "outputs": [],
   "source": [
    "# model.save('3MergedInput-CNN-Conv3.h5')"
   ]
  },
  {
   "cell_type": "code",
   "execution_count": 29,
   "metadata": {},
   "outputs": [],
   "source": [
    "# from tensorflow.keras.preprocessing import image \n",
    "\n",
    "# # %%\n",
    "# # Preprocess and Predict Image data\n",
    "# test_image_path = \"predictions/image/ripe_9.jpg\"\n",
    "# # test_image_path = \"predictions/image/unripe_16.jpg\"\n",
    "# img = image.load_img(test_image_path)\n",
    "# # plt.imshow(img)\n",
    "\n",
    "# # %%\n",
    "# # Preprocess and Predict Gas data\n",
    "# test_gas_path = \"predictions/gas/ripe_13.jpg\"\n",
    "# # test_gas_path = \"predictions/gas/unripe_25.jpg\"\n",
    "# img_gas= image.load_img(test_gas_path)\n",
    "# # plt.imshow(img_gas)\n",
    "\n",
    "# # %%\n",
    "# X_image = image.img_to_array(img)\n",
    "# X_image = np.expand_dims(X_image, axis=0)\n",
    "# X_image = X_image / 255\n",
    "\n",
    "# X_gas = image.img_to_array(img_gas)\n",
    "# X_gas = np.expand_dims(X_gas, axis=0)\n",
    "# X_gas = X_gas / 255\n",
    "\n",
    "# # %%\n",
    "# predict = model.predict([X_image, X_gas])\n",
    "# p = predict[0][0]\n",
    "# p = '{:.10f}'.format(p)\n",
    "# p"
   ]
  }
 ],
 "metadata": {
  "kernelspec": {
   "display_name": "Python 3",
   "language": "python",
   "name": "python3"
  },
  "language_info": {
   "codemirror_mode": {
    "name": "ipython",
    "version": 3
   },
   "file_extension": ".py",
   "mimetype": "text/x-python",
   "name": "python",
   "nbconvert_exporter": "python",
   "pygments_lexer": "ipython3",
   "version": "3.10.4"
  }
 },
 "nbformat": 4,
 "nbformat_minor": 2
}
