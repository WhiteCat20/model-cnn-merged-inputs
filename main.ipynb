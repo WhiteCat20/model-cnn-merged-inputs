{
 "cells": [
  {
   "cell_type": "code",
   "execution_count": 23,
   "metadata": {},
   "outputs": [],
   "source": [
    "import matplotlib.pyplot as plt\n",
    "import numpy as np\n",
    "import cv2\n",
    "import os\n",
    "import PIL\n",
    "import tensorflow as tf\n",
    "\n",
    "from tensorflow import keras\n",
    "from tensorflow.keras import layers\n",
    "from tensorflow.keras.models import Sequential\n",
    "\n",
    "import pathlib\n",
    "from sklearn.model_selection import train_test_split\n",
    "\n",
    "from sklearn.metrics import confusion_matrix\n",
    "import seaborn as sns\n",
    "import datetime"
   ]
  },
  {
   "cell_type": "code",
   "execution_count": 2,
   "metadata": {},
   "outputs": [],
   "source": [
    "# import zipfile\n",
    "\n",
    "# # Unzip the archive into the \"datasets\" folder\n",
    "# local_zip = './merged-datasets.zip'\n",
    "# zip_ref = zipfile.ZipFile(local_zip, 'r')\n",
    "# zip_ref.extractall()\n",
    "# zip_ref.close()"
   ]
  },
  {
   "cell_type": "code",
   "execution_count": 3,
   "metadata": {},
   "outputs": [
    {
     "data": {
      "text/plain": [
       "[WindowsPath('datasets/raw image/ripe/ripe_0.jpg'),\n",
       " WindowsPath('datasets/raw image/ripe/ripe_1.jpg'),\n",
       " WindowsPath('datasets/raw image/ripe/ripe_10.jpg'),\n",
       " WindowsPath('datasets/raw image/ripe/ripe_11.jpg'),\n",
       " WindowsPath('datasets/raw image/ripe/ripe_12.jpg')]"
      ]
     },
     "execution_count": 3,
     "metadata": {},
     "output_type": "execute_result"
    }
   ],
   "source": [
    "# Directory Management for Raw Image datasets\n",
    "data_dir_raw_image = 'datasets/raw image'\n",
    "data_dir_raw_image = pathlib.Path(data_dir_raw_image)\n",
    "raw_durian_images_dict = {\n",
    "    'ripe' : list(data_dir_raw_image.glob('ripe/*')),\n",
    "    'unripe' : list(data_dir_raw_image.glob('unripe/*')),\n",
    "} \n",
    "raw_durian_labels_dict = {\n",
    "    'ripe' : 0,\n",
    "    'unripe' : 1\n",
    "}\n",
    "list(data_dir_raw_image.glob('*/*.jpg'))[:5]"
   ]
  },
  {
   "cell_type": "code",
   "execution_count": 4,
   "metadata": {},
   "outputs": [
    {
     "data": {
      "text/plain": [
       "[WindowsPath('datasets/aroma/ripe/heatmap_10_percobaan_1.png'),\n",
       " WindowsPath('datasets/aroma/ripe/heatmap_10_percobaan_2.png'),\n",
       " WindowsPath('datasets/aroma/ripe/heatmap_10_percobaan_3.png'),\n",
       " WindowsPath('datasets/aroma/ripe/heatmap_10_percobaan_4.png'),\n",
       " WindowsPath('datasets/aroma/ripe/heatmap_10_percobaan_5.png')]"
      ]
     },
     "execution_count": 4,
     "metadata": {},
     "output_type": "execute_result"
    }
   ],
   "source": [
    "# Directory Management for Gas datasets\n",
    "data_dir_gas = 'datasets/aroma'\n",
    "data_dir_gas = pathlib.Path(data_dir_gas)\n",
    "durian_gas_dict = {\n",
    "    'ripe' : list(data_dir_gas.glob('ripe/*')),\n",
    "    'unripe' : list(data_dir_gas.glob('unripe/*')),\n",
    "} \n",
    "gas_labels_dict = {\n",
    "    'ripe' : 0,\n",
    "    'unripe' : 1\n",
    "}\n",
    "list(data_dir_gas.glob('*/*.png'))[:5]"
   ]
  },
  {
   "cell_type": "code",
   "execution_count": 5,
   "metadata": {},
   "outputs": [
    {
     "data": {
      "text/plain": [
       "100"
      ]
     },
     "execution_count": 5,
     "metadata": {},
     "output_type": "execute_result"
    }
   ],
   "source": [
    "X_raw, y_raw = [], []\n",
    "output_folder = \"resized_images\"\n",
    "for durian_ripeness, images in raw_durian_images_dict.items():\n",
    "    for index, image in enumerate(images):\n",
    "        img = cv2.imread(str(image))\n",
    "        resized_img = cv2.resize(img,(200,200))\n",
    "        X_raw.append(resized_img)\n",
    "        y_raw.append(raw_durian_labels_dict[durian_ripeness])\n",
    "        # Uncomment if you want to check all the resized images\n",
    "        # output_name = f\"{durian_ripeness}_{index}.jpg\"\n",
    "        # output_path = os.path.join(output_folder, output_name)\n",
    "        # cv2.imwrite(output_path, resized_img)\n",
    "X_raw = np.array(X_raw)\n",
    "y_raw = np.array(y_raw)\n",
    "len(y_raw)"
   ]
  },
  {
   "cell_type": "code",
   "execution_count": 6,
   "metadata": {},
   "outputs": [
    {
     "data": {
      "text/plain": [
       "100"
      ]
     },
     "execution_count": 6,
     "metadata": {},
     "output_type": "execute_result"
    }
   ],
   "source": [
    "X_gas, y_gas = [], []\n",
    "for durian_ripeness, images in durian_gas_dict.items():\n",
    "    for index, image in enumerate(images):\n",
    "        img = cv2.imread(str(image))\n",
    "        resized_img = cv2.resize(img,(200,200))\n",
    "        X_gas.append(resized_img)\n",
    "        y_gas.append(gas_labels_dict[durian_ripeness])\n",
    "X_gas = np.array(X_gas)\n",
    "y_gas = np.array(y_gas)\n",
    "y_gas\n",
    "len(y_gas)"
   ]
  },
  {
   "cell_type": "code",
   "execution_count": 7,
   "metadata": {},
   "outputs": [],
   "source": [
    "from sklearn.model_selection import train_test_split\n",
    "X_train_raw, X_test_raw, y_train_raw, y_test_raw = train_test_split(X_raw, y_raw, train_size=0.7)\n",
    "X_train_gas, X_test_gas, y_train_gas, y_test_gas = train_test_split(X_gas, y_gas, train_size=0.7)\n",
    "\n",
    "# Scaling Raw dataset\n",
    "X_train_scaled_raw = X_train_raw /255\n",
    "X_test_scaled_raw = X_test_raw /255\n",
    "# Scaling Gas dataset\n",
    "X_train_scaled_gas = X_train_gas /255\n",
    "X_test_scaled_gas = X_test_gas /255"
   ]
  },
  {
   "cell_type": "code",
   "execution_count": 8,
   "metadata": {},
   "outputs": [
    {
     "name": "stdout",
     "output_type": "stream",
     "text": [
      "WARNING:tensorflow:From C:\\Users\\ecs_e\\AppData\\Roaming\\Python\\Python311\\site-packages\\keras\\src\\backend.py:1398: The name tf.executing_eagerly_outside_functions is deprecated. Please use tf.compat.v1.executing_eagerly_outside_functions instead.\n",
      "\n"
     ]
    }
   ],
   "source": [
    "from tensorflow.keras.layers import Input, Conv2D, MaxPooling2D, Dropout, Flatten, Dense, concatenate\n",
    "from tensorflow.keras.models import Model\n",
    "\n",
    "input_shape_raw = (200, 200, 3)  \n",
    "input_shape_gas = (200, 200, 3)  \n",
    "\n",
    "# Define two separate input layers\n",
    "input_raw = Input(shape=input_shape_raw)\n",
    "input_gas = Input(shape=input_shape_gas)"
   ]
  },
  {
   "cell_type": "code",
   "execution_count": 9,
   "metadata": {},
   "outputs": [],
   "source": [
    "convDim = 3  # Define the convolution dimension"
   ]
  },
  {
   "cell_type": "code",
   "execution_count": 10,
   "metadata": {},
   "outputs": [
    {
     "name": "stdout",
     "output_type": "stream",
     "text": [
      "WARNING:tensorflow:From C:\\Users\\ecs_e\\AppData\\Roaming\\Python\\Python311\\site-packages\\keras\\src\\layers\\pooling\\max_pooling2d.py:161: The name tf.nn.max_pool is deprecated. Please use tf.nn.max_pool2d instead.\n",
      "\n"
     ]
    }
   ],
   "source": [
    "# Convolution layer for Raw dataset\n",
    "conv1_raw = Conv2D(16, (convDim, convDim), activation='relu', input_shape=input_shape_raw)(input_raw)\n",
    "pool1_raw = MaxPooling2D(2, 2)(conv1_raw)\n",
    "\n",
    "conv2_raw = Conv2D(32, (convDim, convDim), activation='relu')(pool1_raw)\n",
    "pool2_raw = MaxPooling2D(2, 2)(conv2_raw)\n",
    "\n",
    "flat_raw = Flatten()(pool2_raw)"
   ]
  },
  {
   "cell_type": "code",
   "execution_count": 11,
   "metadata": {},
   "outputs": [],
   "source": [
    "# Convolution layer for Gas dataset\n",
    "conv1_gas = Conv2D(16, (convDim, convDim), activation='relu', input_shape=input_shape_gas)(input_gas)\n",
    "pool1_gas = MaxPooling2D(2, 2)(conv1_gas)\n",
    "\n",
    "conv2_gas = Conv2D(32, (convDim, convDim), activation='relu')(pool1_gas)\n",
    "pool2_gas = MaxPooling2D(2, 2)(conv2_gas)\n",
    "\n",
    "flat_gas = Flatten()(pool2_gas)"
   ]
  },
  {
   "cell_type": "code",
   "execution_count": 12,
   "metadata": {},
   "outputs": [],
   "source": [
    "# Concatenate the flattened outputs\n",
    "merged = concatenate([flat_raw, flat_gas])"
   ]
  },
  {
   "cell_type": "code",
   "execution_count": 13,
   "metadata": {},
   "outputs": [],
   "source": [
    "# Fully Connected Layer\n",
    "fc2 = Dense(128, activation='relu')(merged)\n",
    "fc3 = Dense(64, activation='relu')(fc2)\n",
    "output = Dense(1, activation='sigmoid')(fc3)\n",
    "\n",
    "# Create the model\n",
    "model = Model(inputs=[input_raw, input_gas], outputs=output)"
   ]
  },
  {
   "cell_type": "code",
   "execution_count": 14,
   "metadata": {},
   "outputs": [
    {
     "name": "stdout",
     "output_type": "stream",
     "text": [
      "WARNING:tensorflow:From C:\\Users\\ecs_e\\AppData\\Roaming\\Python\\Python311\\site-packages\\keras\\src\\optimizers\\__init__.py:309: The name tf.train.Optimizer is deprecated. Please use tf.compat.v1.train.Optimizer instead.\n",
      "\n",
      "You must install pydot (`pip install pydot`) and install graphviz (see instructions at https://graphviz.gitlab.io/download/) for plot_model to work.\n"
     ]
    }
   ],
   "source": [
    "# Compile the model\n",
    "model.compile(optimizer='adam', loss='binary_crossentropy', metrics=['accuracy'])\n",
    "from tensorflow.keras.utils import plot_model\n",
    "\n",
    "# Print model summary\n",
    "# model.summary()\n",
    "plot_model(model, to_file='custom-cnn.png', show_shapes=True, show_layer_names=True)"
   ]
  },
  {
   "cell_type": "code",
   "execution_count": 15,
   "metadata": {},
   "outputs": [],
   "source": [
    "class myCallback(tf.keras.callbacks.Callback):\n",
    "  def on_epoch_end(self, epoch, logs={}):\n",
    "    # Check the loss\n",
    "    if(logs.get('accuracy') == 1.0):\n",
    "\n",
    "      # Stop if threshold is met\n",
    "      print(\"\\nAccuracy is reached than 1.0 so cancelling training!\")\n",
    "      self.model.stop_training = True\n",
    "\n",
    "# Instantiate class\n",
    "callbacks = myCallback()\n",
    "# callbacks=callbacks"
   ]
  },
  {
   "cell_type": "code",
   "execution_count": 16,
   "metadata": {},
   "outputs": [
    {
     "name": "stdout",
     "output_type": "stream",
     "text": [
      "Epoch 1/50\n",
      "WARNING:tensorflow:From C:\\Users\\ecs_e\\AppData\\Roaming\\Python\\Python311\\site-packages\\keras\\src\\utils\\tf_utils.py:492: The name tf.ragged.RaggedTensorValue is deprecated. Please use tf.compat.v1.ragged.RaggedTensorValue instead.\n",
      "\n",
      "WARNING:tensorflow:From C:\\Users\\ecs_e\\AppData\\Roaming\\Python\\Python311\\site-packages\\keras\\src\\engine\\base_layer_utils.py:384: The name tf.executing_eagerly_outside_functions is deprecated. Please use tf.compat.v1.executing_eagerly_outside_functions instead.\n",
      "\n",
      "3/3 [==============================] - 2s 283ms/step - loss: 3.0214 - accuracy: 0.5286 - val_loss: 0.8055 - val_accuracy: 0.6333\n",
      "Epoch 2/50\n",
      "3/3 [==============================] - 1s 192ms/step - loss: 0.9784 - accuracy: 0.5000 - val_loss: 1.1613 - val_accuracy: 0.3667\n",
      "Epoch 3/50\n",
      "3/3 [==============================] - 1s 200ms/step - loss: 0.7844 - accuracy: 0.6143 - val_loss: 0.6642 - val_accuracy: 0.6000\n",
      "Epoch 4/50\n",
      "3/3 [==============================] - 1s 192ms/step - loss: 0.6459 - accuracy: 0.7143 - val_loss: 0.6373 - val_accuracy: 0.6667\n",
      "Epoch 5/50\n",
      "3/3 [==============================] - 1s 192ms/step - loss: 0.5130 - accuracy: 0.9286 - val_loss: 0.5377 - val_accuracy: 0.8000\n",
      "Epoch 6/50\n",
      "3/3 [==============================] - 1s 183ms/step - loss: 0.3643 - accuracy: 0.9000 - val_loss: 0.7007 - val_accuracy: 0.5000\n",
      "Epoch 7/50\n",
      "3/3 [==============================] - 1s 195ms/step - loss: 0.2508 - accuracy: 0.9286 - val_loss: 0.2798 - val_accuracy: 0.9333\n",
      "Epoch 8/50\n",
      "3/3 [==============================] - 1s 191ms/step - loss: 0.2547 - accuracy: 0.8857 - val_loss: 0.2732 - val_accuracy: 0.9000\n",
      "Epoch 9/50\n",
      "3/3 [==============================] - 1s 192ms/step - loss: 0.1370 - accuracy: 0.9857 - val_loss: 0.2493 - val_accuracy: 0.9000\n",
      "Epoch 10/50\n",
      "3/3 [==============================] - 1s 200ms/step - loss: 0.0714 - accuracy: 1.0000 - val_loss: 0.2360 - val_accuracy: 0.9333\n",
      "Epoch 11/50\n",
      "3/3 [==============================] - 1s 200ms/step - loss: 0.0616 - accuracy: 1.0000 - val_loss: 0.2086 - val_accuracy: 0.9000\n",
      "Epoch 12/50\n",
      "3/3 [==============================] - 1s 200ms/step - loss: 0.0430 - accuracy: 1.0000 - val_loss: 0.1139 - val_accuracy: 0.9667\n",
      "Epoch 13/50\n",
      "3/3 [==============================] - 1s 192ms/step - loss: 0.0142 - accuracy: 1.0000 - val_loss: 0.1640 - val_accuracy: 0.9333\n",
      "Epoch 14/50\n",
      "3/3 [==============================] - 1s 200ms/step - loss: 0.0101 - accuracy: 1.0000 - val_loss: 0.1152 - val_accuracy: 1.0000\n",
      "Epoch 15/50\n",
      "3/3 [==============================] - 1s 191ms/step - loss: 0.0057 - accuracy: 1.0000 - val_loss: 0.1043 - val_accuracy: 0.9667\n",
      "Epoch 16/50\n",
      "3/3 [==============================] - 1s 199ms/step - loss: 0.0021 - accuracy: 1.0000 - val_loss: 0.0932 - val_accuracy: 0.9667\n",
      "Epoch 17/50\n",
      "3/3 [==============================] - 1s 197ms/step - loss: 0.0017 - accuracy: 1.0000 - val_loss: 0.1221 - val_accuracy: 0.9667\n",
      "Epoch 18/50\n",
      "3/3 [==============================] - 1s 200ms/step - loss: 0.0018 - accuracy: 1.0000 - val_loss: 0.0938 - val_accuracy: 0.9667\n",
      "Epoch 19/50\n",
      "3/3 [==============================] - 1s 191ms/step - loss: 8.1515e-04 - accuracy: 1.0000 - val_loss: 0.0722 - val_accuracy: 0.9667\n",
      "Epoch 20/50\n",
      "3/3 [==============================] - 1s 197ms/step - loss: 4.7359e-04 - accuracy: 1.0000 - val_loss: 0.0761 - val_accuracy: 0.9333\n",
      "Epoch 21/50\n",
      "3/3 [==============================] - 1s 198ms/step - loss: 5.8468e-04 - accuracy: 1.0000 - val_loss: 0.0784 - val_accuracy: 0.9667\n",
      "Epoch 22/50\n",
      "3/3 [==============================] - 1s 193ms/step - loss: 5.7117e-04 - accuracy: 1.0000 - val_loss: 0.0668 - val_accuracy: 0.9667\n",
      "Epoch 23/50\n",
      "3/3 [==============================] - 1s 193ms/step - loss: 3.7501e-04 - accuracy: 1.0000 - val_loss: 0.0661 - val_accuracy: 0.9667\n",
      "Epoch 24/50\n",
      "3/3 [==============================] - 1s 193ms/step - loss: 2.3656e-04 - accuracy: 1.0000 - val_loss: 0.0766 - val_accuracy: 0.9667\n",
      "Epoch 25/50\n",
      "3/3 [==============================] - 1s 191ms/step - loss: 2.5156e-04 - accuracy: 1.0000 - val_loss: 0.0811 - val_accuracy: 0.9667\n",
      "Epoch 26/50\n",
      "3/3 [==============================] - 1s 187ms/step - loss: 2.4274e-04 - accuracy: 1.0000 - val_loss: 0.0803 - val_accuracy: 0.9667\n",
      "Epoch 27/50\n",
      "3/3 [==============================] - 1s 185ms/step - loss: 1.7569e-04 - accuracy: 1.0000 - val_loss: 0.0719 - val_accuracy: 0.9667\n",
      "Epoch 28/50\n",
      "3/3 [==============================] - 1s 184ms/step - loss: 1.2056e-04 - accuracy: 1.0000 - val_loss: 0.0610 - val_accuracy: 0.9667\n",
      "Epoch 29/50\n",
      "3/3 [==============================] - 1s 185ms/step - loss: 9.0191e-05 - accuracy: 1.0000 - val_loss: 0.0550 - val_accuracy: 0.9667\n",
      "Epoch 30/50\n",
      "3/3 [==============================] - 1s 184ms/step - loss: 8.2157e-05 - accuracy: 1.0000 - val_loss: 0.0537 - val_accuracy: 0.9667\n",
      "Epoch 31/50\n",
      "3/3 [==============================] - 1s 193ms/step - loss: 7.8476e-05 - accuracy: 1.0000 - val_loss: 0.0544 - val_accuracy: 0.9667\n",
      "Epoch 32/50\n",
      "3/3 [==============================] - 1s 186ms/step - loss: 7.2385e-05 - accuracy: 1.0000 - val_loss: 0.0561 - val_accuracy: 0.9667\n",
      "Epoch 33/50\n",
      "3/3 [==============================] - 1s 187ms/step - loss: 6.5324e-05 - accuracy: 1.0000 - val_loss: 0.0598 - val_accuracy: 0.9667\n",
      "Epoch 34/50\n",
      "3/3 [==============================] - 1s 185ms/step - loss: 5.9118e-05 - accuracy: 1.0000 - val_loss: 0.0637 - val_accuracy: 0.9667\n",
      "Epoch 35/50\n",
      "3/3 [==============================] - 1s 192ms/step - loss: 5.5562e-05 - accuracy: 1.0000 - val_loss: 0.0671 - val_accuracy: 0.9667\n",
      "Epoch 36/50\n",
      "3/3 [==============================] - 1s 192ms/step - loss: 5.3498e-05 - accuracy: 1.0000 - val_loss: 0.0684 - val_accuracy: 0.9667\n",
      "Epoch 37/50\n",
      "3/3 [==============================] - 1s 183ms/step - loss: 5.0631e-05 - accuracy: 1.0000 - val_loss: 0.0680 - val_accuracy: 0.9667\n",
      "Epoch 38/50\n",
      "3/3 [==============================] - 1s 200ms/step - loss: 4.7912e-05 - accuracy: 1.0000 - val_loss: 0.0657 - val_accuracy: 0.9667\n",
      "Epoch 39/50\n",
      "3/3 [==============================] - 1s 192ms/step - loss: 4.4963e-05 - accuracy: 1.0000 - val_loss: 0.0640 - val_accuracy: 0.9667\n",
      "Epoch 40/50\n",
      "3/3 [==============================] - 1s 192ms/step - loss: 4.2927e-05 - accuracy: 1.0000 - val_loss: 0.0625 - val_accuracy: 0.9667\n",
      "Epoch 41/50\n",
      "3/3 [==============================] - 1s 192ms/step - loss: 4.0983e-05 - accuracy: 1.0000 - val_loss: 0.0615 - val_accuracy: 0.9667\n",
      "Epoch 42/50\n",
      "3/3 [==============================] - 1s 200ms/step - loss: 3.9612e-05 - accuracy: 1.0000 - val_loss: 0.0609 - val_accuracy: 0.9667\n",
      "Epoch 43/50\n",
      "3/3 [==============================] - 1s 192ms/step - loss: 3.7895e-05 - accuracy: 1.0000 - val_loss: 0.0616 - val_accuracy: 0.9667\n",
      "Epoch 44/50\n",
      "3/3 [==============================] - 1s 192ms/step - loss: 3.5830e-05 - accuracy: 1.0000 - val_loss: 0.0646 - val_accuracy: 0.9667\n",
      "Epoch 45/50\n",
      "3/3 [==============================] - 1s 192ms/step - loss: 3.5036e-05 - accuracy: 1.0000 - val_loss: 0.0700 - val_accuracy: 0.9667\n",
      "Epoch 46/50\n",
      "3/3 [==============================] - 1s 200ms/step - loss: 3.3752e-05 - accuracy: 1.0000 - val_loss: 0.0720 - val_accuracy: 0.9667\n",
      "Epoch 47/50\n",
      "3/3 [==============================] - 1s 189ms/step - loss: 3.3356e-05 - accuracy: 1.0000 - val_loss: 0.0723 - val_accuracy: 0.9667\n",
      "Epoch 48/50\n",
      "3/3 [==============================] - 1s 186ms/step - loss: 3.1761e-05 - accuracy: 1.0000 - val_loss: 0.0705 - val_accuracy: 0.9667\n",
      "Epoch 49/50\n",
      "3/3 [==============================] - 1s 192ms/step - loss: 3.0132e-05 - accuracy: 1.0000 - val_loss: 0.0686 - val_accuracy: 0.9667\n",
      "Epoch 50/50\n",
      "3/3 [==============================] - 1s 191ms/step - loss: 2.8664e-05 - accuracy: 1.0000 - val_loss: 0.0661 - val_accuracy: 0.9667\n"
     ]
    }
   ],
   "source": [
    "# Train the model\n",
    "model_fit = model.fit(\n",
    " ( X_train_scaled_raw, X_train_scaled_gas), \n",
    " y_train_raw, \n",
    " epochs=50,\n",
    " validation_data=(\n",
    "        ( X_test_scaled_raw, X_test_scaled_gas), \n",
    "        ( y_test_raw, y_test_gas)\n",
    "    ),\n",
    "#  callbacks=callbacks\n",
    " )"
   ]
  },
  {
   "cell_type": "code",
   "execution_count": 17,
   "metadata": {},
   "outputs": [
    {
     "name": "stdout",
     "output_type": "stream",
     "text": [
      "1/1 [==============================] - 0s 67ms/step - loss: 0.0661 - accuracy: 0.9667\n",
      "Test Loss: 0.06611193716526031\n",
      "Test Accuracy: 0.9666666388511658\n"
     ]
    }
   ],
   "source": [
    "loss, accuracy = model.evaluate([X_test_scaled_raw, X_test_scaled_gas], [y_test_raw, y_test_gas])\n",
    "print(\"Test Loss:\", loss)\n",
    "print(\"Test Accuracy:\", accuracy)"
   ]
  },
  {
   "cell_type": "code",
   "execution_count": 18,
   "metadata": {},
   "outputs": [
    {
     "name": "stdout",
     "output_type": "stream",
     "text": [
      "1/1 [==============================] - 0s 122ms/step\n"
     ]
    },
    {
     "data": {
      "text/plain": [
       "array([[1.  ],\n",
       "       [0.  ],\n",
       "       [1.  ],\n",
       "       [0.99],\n",
       "       [1.  ],\n",
       "       [1.  ],\n",
       "       [0.  ],\n",
       "       [0.17],\n",
       "       [0.96],\n",
       "       [0.  ],\n",
       "       [0.  ],\n",
       "       [0.03],\n",
       "       [0.  ],\n",
       "       [0.  ],\n",
       "       [1.  ],\n",
       "       [0.  ],\n",
       "       [0.  ],\n",
       "       [0.  ],\n",
       "       [0.  ],\n",
       "       [0.  ],\n",
       "       [0.  ],\n",
       "       [1.  ],\n",
       "       [0.  ],\n",
       "       [0.  ],\n",
       "       [0.04],\n",
       "       [1.  ],\n",
       "       [0.  ],\n",
       "       [1.  ],\n",
       "       [0.03],\n",
       "       [0.04]], dtype=float32)"
      ]
     },
     "execution_count": 18,
     "metadata": {},
     "output_type": "execute_result"
    }
   ],
   "source": [
    "predictions = model.predict([X_test_scaled_raw, X_test_scaled_gas])\n",
    "predictions = np.round(predictions,2)\n",
    "predictions"
   ]
  },
  {
   "cell_type": "code",
   "execution_count": 24,
   "metadata": {},
   "outputs": [
    {
     "data": {
      "image/png": "[encoded data removed]",
      "text/plain": [
       "<Figure size 1200x600 with 2 Axes>"
      ]
     },
     "metadata": {},
     "output_type": "display_data"
    }
   ],
   "source": [
    "# Plot training and validation history\n",
    "plt.figure(figsize=(12, 6))\n",
    "\n",
    "# Plot training & validation accuracy values\n",
    "plt.subplot(1, 2, 1)\n",
    "plt.plot(model_fit.history['accuracy'])\n",
    "plt.plot(model_fit.history['val_accuracy'])  # Add validation accuracy\n",
    "plt.title('Model Accuracy')\n",
    "plt.xlabel('Epoch')\n",
    "plt.ylabel('Accuracy')\n",
    "plt.legend(['Train', 'Validation'], loc='upper left')\n",
    "\n",
    "# Plot training & validation loss values\n",
    "plt.subplot(1, 2, 2)\n",
    "plt.plot(model_fit.history['loss'])\n",
    "plt.plot(model_fit.history['val_loss'])  # Add validation loss\n",
    "plt.title('Model Loss')\n",
    "plt.xlabel('Epoch')\n",
    "plt.ylabel('Loss')\n",
    "plt.legend(['Train', 'Validation'], loc='upper left')\n",
    "\n",
    "plt.tight_layout()\n",
    "# Get current date and time\n",
    "now = datetime.datetime.now()\n",
    "\n",
    "# Format the date-time string as 'MMDDYYYY-HHMM'\n",
    "date_time_str = now.strftime(\"%d%m%Y-%H%M\")\n",
    "\n",
    "# Save the plot with the specified name format\n",
    "plt.savefig(f\"{date_time_str}.png\")\n",
    "\n",
    "plt.show()\n"
   ]
  },
  {
   "cell_type": "code",
   "execution_count": 22,
   "metadata": {},
   "outputs": [
    {
     "name": "stdout",
     "output_type": "stream",
     "text": [
      "1/1 [==============================] - 0s 85ms/step\n"
     ]
    },
    {
     "data": {
      "image/png": "[encoded data removed]",
      "text/plain": [
       "<Figure size 800x600 with 2 Axes>"
      ]
     },
     "metadata": {},
     "output_type": "display_data"
    }
   ],
   "source": [
    "from sklearn.metrics import confusion_matrix\n",
    "\n",
    "# Generate predictions on the test set\n",
    "y_pred = model.predict([X_test_scaled_raw, X_test_scaled_gas])\n",
    "y_pred_classes = (y_pred > 0.9).astype(int)  # Assuming it's a binary classification problem\n",
    "\n",
    "# Assuming y_test contains the true labels for the test set\n",
    "# Generate the confusion matrix\n",
    "conf_mat = confusion_matrix(y_test_raw, y_pred_classes)\n",
    "\n",
    "# Plot the confusion matrix using seaborn\n",
    "plt.figure(figsize=(8, 6))\n",
    "sns.heatmap(conf_mat, annot=True, fmt='d', cmap='Blues', xticklabels=['Unripe', 'Ripe'], yticklabels=['Unripe', 'Ripe'])\n",
    "plt.title('Confusion Matrix')\n",
    "plt.xlabel('Predicted')\n",
    "plt.ylabel('True')\n",
    "plt.show()"
   ]
  }
 ],
 "metadata": {
  "kernelspec": {
   "display_name": "Python 3",
   "language": "python",
   "name": "python3"
  },
  "language_info": {
   "codemirror_mode": {
    "name": "ipython",
    "version": 3
   },
   "file_extension": ".py",
   "mimetype": "text/x-python",
   "name": "python",
   "nbconvert_exporter": "python",
   "pygments_lexer": "ipython3",
   "version": "3.11.0"
  }
 },
 "nbformat": 4,
 "nbformat_minor": 2
}
