{
 "cells": [
  {
   "cell_type": "code",
   "execution_count": 10,
   "metadata": {},
   "outputs": [],
   "source": [
    "import matplotlib.pyplot as plt\n",
    "import numpy as np\n",
    "import cv2\n",
    "import os\n",
    "import PIL\n",
    "import tensorflow as tf\n",
    "\n",
    "from tensorflow import keras\n",
    "from tensorflow.keras import layers\n",
    "from tensorflow.keras.models import Sequential\n",
    "\n",
    "import pathlib\n",
    "from sklearn.model_selection import train_test_split\n",
    "\n",
    "from sklearn.metrics import confusion_matrix\n",
    "import seaborn as sns"
   ]
  },
  {
   "cell_type": "code",
   "execution_count": 3,
   "metadata": {},
   "outputs": [],
   "source": [
    "import zipfile\n",
    "import os\n",
    "\n",
    "# Create a folder named \"datasets\" if it doesn't exist\n",
    "dataset_folder = 'datasets'\n",
    "if not os.path.exists(dataset_folder):\n",
    "    os.makedirs(dataset_folder)\n",
    "\n",
    "# Unzip the archive into the \"datasets\" folder\n",
    "local_zip = './merged-datasets.zip'\n",
    "zip_ref = zipfile.ZipFile(local_zip, 'r')\n",
    "zip_ref.extractall(dataset_folder)\n",
    "zip_ref.close()"
   ]
  },
  {
   "cell_type": "code",
   "execution_count": 11,
   "metadata": {},
   "outputs": [],
   "source": [
    "# Directory Management for Image datasets\n",
    "data_dir_image = 'datasets/image'\n",
    "data_dir_image = pathlib.Path(data_dir_image)\n",
    "durian_images_dict = {\n",
    "    'ripe' : list(data_dir_image.glob('ripe/*')),\n",
    "    'unripe' : list(data_dir_image.glob('unripe/*')),\n",
    "} \n",
    "durian_labels_dict = {\n",
    "    'ripe' : 0,\n",
    "    'unripe' : 1\n",
    "}"
   ]
  },
  {
   "cell_type": "code",
   "execution_count": 12,
   "metadata": {},
   "outputs": [],
   "source": [
    "# Directory Management for Raw Image datasets\n",
    "data_dir_raw_image = 'datasets/raw image'\n",
    "data_dir_raw_image = pathlib.Path(data_dir_raw_image)\n",
    "raw_durian_images_dict = {\n",
    "    'ripe' : list(data_dir_raw_image.glob('ripe/*')),\n",
    "    'unripe' : list(data_dir_raw_image.glob('unripe/*')),\n",
    "} \n",
    "raw_durian_labels_dict = {\n",
    "    'ripe' : 0,\n",
    "    'unripe' : 1\n",
    "}"
   ]
  },
  {
   "cell_type": "code",
   "execution_count": 13,
   "metadata": {},
   "outputs": [
    {
     "data": {
      "text/plain": [
       "[WindowsPath('datasets/gas/ripe/heatmap_10_percobaan_1.png'),\n",
       " WindowsPath('datasets/gas/ripe/heatmap_10_percobaan_2 - Copy.png'),\n",
       " WindowsPath('datasets/gas/ripe/heatmap_10_percobaan_2.png'),\n",
       " WindowsPath('datasets/gas/ripe/heatmap_10_percobaan_3.png'),\n",
       " WindowsPath('datasets/gas/ripe/heatmap_10_percobaan_4.png')]"
      ]
     },
     "execution_count": 13,
     "metadata": {},
     "output_type": "execute_result"
    }
   ],
   "source": [
    "# Directory Management for Gas datasets\n",
    "data_dir_gas = 'datasets/gas'\n",
    "data_dir_gas = pathlib.Path(data_dir_gas)\n",
    "durian_gas_dict = {\n",
    "    'ripe' : list(data_dir_gas.glob('ripe/*')),\n",
    "    'unripe' : list(data_dir_gas.glob('unripe/*')),\n",
    "} \n",
    "gas_labels_dict = {\n",
    "    'ripe' : 0,\n",
    "    'unripe' : 1\n",
    "}\n",
    "list(data_dir_gas.glob('*/*.png'))[:5]"
   ]
  },
  {
   "cell_type": "code",
   "execution_count": 14,
   "metadata": {},
   "outputs": [
    {
     "data": {
      "text/plain": [
       "array([0, 0, 0, 0, 0, 0, 0, 0, 0, 0, 0, 0, 0, 0, 0, 0, 0, 0, 0, 0, 0, 0,\n",
       "       0, 0, 0, 0, 0, 0, 0, 0, 0, 0, 0, 0, 0, 0, 0, 0, 0, 0, 0, 0, 0, 0,\n",
       "       0, 0, 0, 0, 0, 0, 1, 1, 1, 1, 1, 1, 1, 1, 1, 1, 1, 1, 1, 1, 1, 1,\n",
       "       1, 1, 1, 1, 1, 1, 1, 1, 1, 1, 1, 1, 1, 1, 1, 1, 1, 1, 1, 1, 1, 1,\n",
       "       1, 1, 1, 1, 1, 1, 1, 1, 1, 1, 1, 1])"
      ]
     },
     "execution_count": 14,
     "metadata": {},
     "output_type": "execute_result"
    }
   ],
   "source": [
    "X_image, y_image = [], []\n",
    "for durian_ripeness, images in durian_images_dict.items():\n",
    "    for index, image in enumerate(images):\n",
    "        img = cv2.imread(str(image))\n",
    "        resized_img = cv2.resize(img,(200,200))\n",
    "        X_image.append(resized_img)\n",
    "        y_image.append(durian_labels_dict[durian_ripeness])\n",
    "X_image = np.array(X_image)\n",
    "y_image = np.array(y_image)\n",
    "y_image"
   ]
  },
  {
   "cell_type": "code",
   "execution_count": 35,
   "metadata": {},
   "outputs": [
    {
     "data": {
      "text/plain": [
       "array([0, 0, 0, 0, 0, 0, 0, 0, 0, 0, 0, 0, 0, 0, 0, 0, 0, 0, 0, 0, 0, 0,\n",
       "       0, 0, 0, 0, 0, 0, 0, 0, 0, 0, 0, 0, 0, 0, 0, 0, 0, 0, 0, 0, 0, 0,\n",
       "       0, 0, 0, 0, 0, 0, 1, 1, 1, 1, 1, 1, 1, 1, 1, 1, 1, 1, 1, 1, 1, 1,\n",
       "       1, 1, 1, 1, 1, 1, 1, 1, 1, 1, 1, 1, 1, 1, 1, 1, 1, 1, 1, 1, 1, 1,\n",
       "       1, 1, 1, 1, 1, 1, 1, 1, 1, 1, 1, 1])"
      ]
     },
     "execution_count": 35,
     "metadata": {},
     "output_type": "execute_result"
    }
   ],
   "source": [
    "X_raw, y_raw = [], []\n",
    "output_folder = \"resized_images\"\n",
    "for durian_ripeness, images in raw_durian_images_dict.items():\n",
    "    for index, image in enumerate(images):\n",
    "        img = cv2.imread(str(image))\n",
    "        resized_img = cv2.resize(img,(200,200))\n",
    "        X_raw.append(resized_img)\n",
    "        y_raw.append(raw_durian_labels_dict[durian_ripeness])\n",
    "        # Uncomment if you want to check all the resized images\n",
    "        # output_name = f\"{durian_ripeness}_{index}.jpg\"\n",
    "        # output_path = os.path.join(output_folder, output_name)\n",
    "        # cv2.imwrite(output_path, resized_img)\n",
    "X_raw = np.array(X_raw)\n",
    "y_raw = np.array(y_raw)\n",
    "y_raw"
   ]
  },
  {
   "cell_type": "code",
   "execution_count": 16,
   "metadata": {},
   "outputs": [
    {
     "data": {
      "text/plain": [
       "array([0, 0, 0, 0, 0, 0, 0, 0, 0, 0, 0, 0, 0, 0, 0, 0, 0, 0, 0, 0, 0, 0,\n",
       "       0, 0, 0, 0, 0, 0, 0, 0, 0, 0, 0, 0, 0, 0, 0, 0, 0, 0, 0, 0, 0, 0,\n",
       "       0, 0, 0, 0, 0, 0, 1, 1, 1, 1, 1, 1, 1, 1, 1, 1, 1, 1, 1, 1, 1, 1,\n",
       "       1, 1, 1, 1, 1, 1, 1, 1, 1, 1, 1, 1, 1, 1, 1, 1, 1, 1, 1, 1, 1, 1,\n",
       "       1, 1, 1, 1, 1, 1, 1, 1, 1, 1, 1, 1])"
      ]
     },
     "execution_count": 16,
     "metadata": {},
     "output_type": "execute_result"
    }
   ],
   "source": [
    "X_gas, y_gas = [], []\n",
    "for durian_ripeness, images in durian_gas_dict.items():\n",
    "    for index, image in enumerate(images):\n",
    "        img = cv2.imread(str(image))\n",
    "        resized_img = cv2.resize(img,(200,200))\n",
    "        X_gas.append(resized_img)\n",
    "        y_gas.append(gas_labels_dict[durian_ripeness])\n",
    "X_gas = np.array(X_gas)\n",
    "y_gas = np.array(y_gas)\n",
    "y_gas"
   ]
  },
  {
   "cell_type": "code",
   "execution_count": 17,
   "metadata": {},
   "outputs": [],
   "source": [
    "from sklearn.model_selection import train_test_split\n",
    "X_train_image, X_test_image, y_train_image, y_test_image = train_test_split(X_image, y_image, random_state=0)\n",
    "X_train_raw, X_test_raw, y_train_raw, y_test_raw = train_test_split(X_raw, y_raw, random_state=0)\n",
    "X_train_gas, X_test_gas, y_train_gas, y_test_gas = train_test_split(X_gas, y_gas, random_state=0)\n",
    "# Scaling Image dataset\n",
    "X_train_scaled_image = X_train_image /255\n",
    "X_test_scaled_image = X_test_image /255\n",
    "# Scaling Raw dataset\n",
    "X_train_scaled_raw = X_train_raw /255\n",
    "X_test_scaled_raw = X_test_raw /255\n",
    "# Scaling Gas dataset\n",
    "X_train_scaled_gas = X_train_gas /255\n",
    "X_test_scaled_gas = X_test_gas /255"
   ]
  },
  {
   "cell_type": "code",
   "execution_count": 18,
   "metadata": {},
   "outputs": [
    {
     "name": "stdout",
     "output_type": "stream",
     "text": [
      "WARNING:tensorflow:From c:\\Users\\FISREKSATU\\AppData\\Local\\Programs\\Python\\Python39\\lib\\site-packages\\keras\\src\\backend.py:1398: The name tf.executing_eagerly_outside_functions is deprecated. Please use tf.compat.v1.executing_eagerly_outside_functions instead.\n",
      "\n"
     ]
    }
   ],
   "source": [
    "from tensorflow.keras.layers import Input, Conv2D, MaxPooling2D, Dropout, Flatten, Dense, concatenate\n",
    "from tensorflow.keras.models import Model\n",
    "\n",
    "input_shape_image = (200, 200, 3)  \n",
    "input_shape_raw = (200, 200, 3)  \n",
    "input_shape_gas = (200, 200, 3)  \n",
    "\n",
    "\n",
    "# Define two separate input layers\n",
    "input_image = Input(shape=input_shape_image)\n",
    "input_raw = Input(shape=input_shape_raw)\n",
    "input_gas = Input(shape=input_shape_gas)"
   ]
  },
  {
   "cell_type": "code",
   "execution_count": 19,
   "metadata": {},
   "outputs": [],
   "source": [
    "convDim = 3  # Define the convolution dimension"
   ]
  },
  {
   "cell_type": "code",
   "execution_count": 20,
   "metadata": {},
   "outputs": [
    {
     "name": "stdout",
     "output_type": "stream",
     "text": [
      "WARNING:tensorflow:From c:\\Users\\FISREKSATU\\AppData\\Local\\Programs\\Python\\Python39\\lib\\site-packages\\keras\\src\\layers\\pooling\\max_pooling2d.py:161: The name tf.nn.max_pool is deprecated. Please use tf.nn.max_pool2d instead.\n",
      "\n"
     ]
    }
   ],
   "source": [
    "# Convolution layer for Image dataset\n",
    "conv1_image = Conv2D(16, (convDim, convDim), activation='relu', input_shape=input_shape_image)(input_image)\n",
    "pool1_image = MaxPooling2D(2, 2)(conv1_image)\n",
    "drop1_image = Dropout(0.25)(pool1_image)\n",
    "\n",
    "conv2_image = Conv2D(32, (convDim, convDim), activation='relu')(drop1_image)\n",
    "pool2_image = MaxPooling2D(2, 2)(conv2_image)\n",
    "drop2_image = Dropout(0.25)(pool2_image)\n",
    "\n",
    "conv3_image = Conv2D(64, (convDim, convDim), activation='relu')(drop2_image)\n",
    "pool3_image = MaxPooling2D(2, 2)(conv3_image)\n",
    "drop3_image = Dropout(0.2)(pool3_image)\n",
    "\n",
    "flat_image = Flatten()(drop3_image)"
   ]
  },
  {
   "cell_type": "code",
   "execution_count": 21,
   "metadata": {},
   "outputs": [],
   "source": [
    "# Convolution layer for Raw dataset\n",
    "conv1_raw = Conv2D(16, (convDim, convDim), activation='relu', input_shape=input_shape_raw)(input_raw)\n",
    "pool1_raw = MaxPooling2D(2, 2)(conv1_raw)\n",
    "drop1_raw = Dropout(0.25)(pool1_raw)\n",
    "\n",
    "conv2_raw = Conv2D(32, (convDim, convDim), activation='relu')(drop1_raw)\n",
    "pool2_raw = MaxPooling2D(2, 2)(conv2_raw)\n",
    "drop2_raw = Dropout(0.25)(pool2_raw)\n",
    "\n",
    "conv3_raw = Conv2D(64, (convDim, convDim), activation='relu')(drop2_raw)\n",
    "pool3_raw = MaxPooling2D(2, 2)(conv3_raw)\n",
    "drop3_raw = Dropout(0.2)(pool3_raw)\n",
    "\n",
    "flat_raw = Flatten()(drop3_raw)"
   ]
  },
  {
   "cell_type": "code",
   "execution_count": 22,
   "metadata": {},
   "outputs": [],
   "source": [
    "# Convolution layer for Gas dataset\n",
    "conv1_gas = Conv2D(16, (convDim, convDim), activation='relu', input_shape=input_shape_gas)(input_gas)\n",
    "pool1_gas = MaxPooling2D(2, 2)(conv1_gas)\n",
    "drop1_gas = Dropout(0.25)(pool1_gas)\n",
    "\n",
    "conv2_gas = Conv2D(32, (convDim, convDim), activation='relu')(drop1_gas)\n",
    "pool2_gas = MaxPooling2D(2, 2)(conv2_gas)\n",
    "drop2_gas = Dropout(0.25)(pool2_gas)\n",
    "\n",
    "conv3_gas = Conv2D(64, (convDim, convDim), activation='relu')(drop2_gas)\n",
    "pool3_gas = MaxPooling2D(2, 2)(conv3_gas)\n",
    "drop3_gas = Dropout(0.2)(pool3_gas)\n",
    "\n",
    "flat_gas = Flatten()(drop3_gas)"
   ]
  },
  {
   "cell_type": "code",
   "execution_count": 23,
   "metadata": {},
   "outputs": [],
   "source": [
    "# Concatenate the flattened outputs\n",
    "merged = concatenate([flat_image, flat_raw, flat_gas])"
   ]
  },
  {
   "cell_type": "code",
   "execution_count": 24,
   "metadata": {},
   "outputs": [],
   "source": [
    "# Fully Connected Layer\n",
    "fc1 = Dense(512, activation='relu')(merged)\n",
    "drop_fc1 = Dropout(0.25)(fc1)\n",
    "\n",
    "fc2 = Dense(128, activation='relu')(drop_fc1)\n",
    "drop_fc2 = Dropout(0.25)(fc2)\n",
    "\n",
    "fc3 = Dense(64, activation='relu')(drop_fc2)\n",
    "drop_fc3 = Dropout(0.25)(fc3)\n",
    "\n",
    "fc4 = Dense(8, activation='relu')(drop_fc3)\n",
    "drop_fc4 = Dropout(0.25)(fc4)\n",
    "\n",
    "output = Dense(1, activation='sigmoid')(drop_fc4)\n",
    "\n",
    "# Create the model\n",
    "model = Model(inputs=[input_image, input_raw, input_gas], outputs=output)"
   ]
  },
  {
   "cell_type": "code",
   "execution_count": 25,
   "metadata": {},
   "outputs": [
    {
     "name": "stdout",
     "output_type": "stream",
     "text": [
      "WARNING:tensorflow:From c:\\Users\\FISREKSATU\\AppData\\Local\\Programs\\Python\\Python39\\lib\\site-packages\\keras\\src\\optimizers\\__init__.py:309: The name tf.train.Optimizer is deprecated. Please use tf.compat.v1.train.Optimizer instead.\n",
      "\n",
      "You must install pydot (`pip install pydot`) and install graphviz (see instructions at https://graphviz.gitlab.io/download/) for plot_model to work.\n"
     ]
    }
   ],
   "source": [
    "# Compile the model\n",
    "model.compile(optimizer='adam', loss='binary_crossentropy', metrics=['accuracy'], run_eagerly=True)\n",
    "from tensorflow.keras.utils import plot_model\n",
    "\n",
    "# Print model summary\n",
    "# model.summary()\n",
    "plot_model(model, to_file='custom-cnn.png', show_shapes=False, show_layer_names=True)"
   ]
  },
  {
   "cell_type": "code",
   "execution_count": 26,
   "metadata": {},
   "outputs": [],
   "source": [
    "class myCallback(tf.keras.callbacks.Callback):\n",
    "  def on_epoch_end(self, epoch, logs={}):\n",
    "    # Check the loss\n",
    "    if(logs.get('accuracy') == 1.0):\n",
    "\n",
    "      # Stop if threshold is met\n",
    "      print(\"\\nAccuracy is reached than 1.0 so cancelling training!\")\n",
    "      self.model.stop_training = True\n",
    "\n",
    "# Instantiate class\n",
    "callbacks = myCallback()\n",
    "# callbacks=callbacks"
   ]
  },
  {
   "cell_type": "code",
   "execution_count": 27,
   "metadata": {},
   "outputs": [
    {
     "name": "stdout",
     "output_type": "stream",
     "text": [
      "Epoch 1/100\n",
      "WARNING:tensorflow:From c:\\Users\\FISREKSATU\\AppData\\Local\\Programs\\Python\\Python39\\lib\\site-packages\\keras\\src\\utils\\tf_utils.py:492: The name tf.ragged.RaggedTensorValue is deprecated. Please use tf.compat.v1.ragged.RaggedTensorValue instead.\n",
      "\n",
      "2/2 [==============================] - 3s 1s/step - loss: 1.3353 - accuracy: 0.4500 - val_loss: 0.5967 - val_accuracy: 0.6000\n",
      "Epoch 2/100\n",
      "2/2 [==============================] - 2s 1s/step - loss: 1.3968 - accuracy: 0.5167 - val_loss: 0.6492 - val_accuracy: 0.6000\n",
      "Epoch 3/100\n",
      "2/2 [==============================] - 2s 1s/step - loss: 0.8230 - accuracy: 0.5000 - val_loss: 0.6452 - val_accuracy: 1.0000\n",
      "Epoch 4/100\n",
      "2/2 [==============================] - 2s 1s/step - loss: 0.6062 - accuracy: 0.6167 - val_loss: 0.6167 - val_accuracy: 1.0000\n",
      "Epoch 5/100\n",
      "2/2 [==============================] - 2s 1s/step - loss: 0.5529 - accuracy: 0.7000 - val_loss: 0.6159 - val_accuracy: 0.8000\n",
      "Epoch 6/100\n",
      "2/2 [==============================] - 2s 1s/step - loss: 0.4450 - accuracy: 0.8333 - val_loss: 0.5218 - val_accuracy: 1.0000\n",
      "Epoch 7/100\n",
      "2/2 [==============================] - 2s 1s/step - loss: 0.4099 - accuracy: 0.8667 - val_loss: 0.4284 - val_accuracy: 1.0000\n",
      "Epoch 8/100\n",
      "2/2 [==============================] - 2s 1s/step - loss: 0.3035 - accuracy: 0.8833 - val_loss: 0.3767 - val_accuracy: 0.9333\n",
      "Epoch 9/100\n",
      "2/2 [==============================] - 2s 1s/step - loss: 0.2422 - accuracy: 0.9167 - val_loss: 0.2452 - val_accuracy: 0.9333\n",
      "Epoch 10/100\n",
      "2/2 [==============================] - 2s 1s/step - loss: 0.1687 - accuracy: 0.9500 - val_loss: 0.1406 - val_accuracy: 1.0000\n",
      "Epoch 11/100\n",
      "2/2 [==============================] - 2s 1s/step - loss: 0.1086 - accuracy: 0.9333 - val_loss: 0.1013 - val_accuracy: 1.0000\n",
      "Epoch 12/100\n",
      "2/2 [==============================] - 2s 1s/step - loss: 0.1145 - accuracy: 0.9500 - val_loss: 0.0542 - val_accuracy: 1.0000\n",
      "Epoch 13/100\n",
      "2/2 [==============================] - 2s 1s/step - loss: 0.0710 - accuracy: 0.9667 - val_loss: 0.0442 - val_accuracy: 1.0000\n",
      "Epoch 14/100\n",
      "2/2 [==============================] - 2s 1s/step - loss: 0.1379 - accuracy: 0.9667 - val_loss: 0.0357 - val_accuracy: 1.0000\n",
      "Epoch 15/100\n",
      "2/2 [==============================] - 2s 1s/step - loss: 0.1059 - accuracy: 0.9333 - val_loss: 0.0257 - val_accuracy: 1.0000\n",
      "Epoch 16/100\n",
      "2/2 [==============================] - ETA: 0s - loss: 0.0190 - accuracy: 1.0000\\Accuracy is reached than 1.0 so cancelling training!\n",
      "2/2 [==============================] - 2s 1s/step - loss: 0.0190 - accuracy: 1.0000 - val_loss: 0.0173 - val_accuracy: 1.0000\n"
     ]
    }
   ],
   "source": [
    "# Train the model\n",
    "model_fit = model.fit(\n",
    " (X_train_scaled_image, X_train_scaled_raw, X_train_scaled_gas), \n",
    " y_train_image, \n",
    " batch_size=32, \n",
    " epochs=100,\n",
    " # callbacks=callbacks\n",
    " )"
   ]
  },
  {
   "cell_type": "code",
   "execution_count": 28,
   "metadata": {},
   "outputs": [
    {
     "name": "stdout",
     "output_type": "stream",
     "text": [
      "1/1 [==============================] - 0s 214ms/step - loss: 0.0148 - accuracy: 1.0000\n",
      "Test Loss: 0.014782857149839401\n",
      "Test Accuracy: 1.0\n"
     ]
    }
   ],
   "source": [
    "loss, accuracy = model.evaluate([X_test_scaled_image, X_test_scaled_raw, X_test_scaled_gas], [y_test_image, y_test_raw, y_test_gas])\n",
    "print(\"Test Loss:\", loss)\n",
    "print(\"Test Accuracy:\", accuracy)"
   ]
  },
  {
   "cell_type": "code",
   "execution_count": 29,
   "metadata": {},
   "outputs": [
    {
     "data": {
      "image/png": "[encoded data removed]",
      "text/plain": [
       "<Figure size 1200x600 with 2 Axes>"
      ]
     },
     "metadata": {},
     "output_type": "display_data"
    }
   ],
   "source": [
    "# Plot training and validation history\n",
    "plt.figure(figsize=(12, 6))\n",
    "\n",
    "# Plot training & validation accuracy values\n",
    "plt.subplot(1, 2, 1)\n",
    "plt.plot(model_fit.history['accuracy'])\n",
    "plt.plot(model_fit.history['val_accuracy'])  # Add validation accuracy\n",
    "plt.title('Model Accuracy')\n",
    "plt.xlabel('Epoch')\n",
    "plt.ylabel('Accuracy')\n",
    "plt.legend(['Train', 'Validation'], loc='upper left')\n",
    "\n",
    "# Plot training & validation loss values\n",
    "plt.subplot(1, 2, 2)\n",
    "plt.plot(model_fit.history['loss'])\n",
    "plt.plot(model_fit.history['val_loss'])  # Add validation loss\n",
    "plt.title('Model Loss')\n",
    "plt.xlabel('Epoch')\n",
    "plt.ylabel('Loss')\n",
    "plt.legend(['Train', 'Validation'], loc='upper left')\n",
    "\n",
    "plt.tight_layout()\n",
    "plt.show()"
   ]
  },
  {
   "cell_type": "code",
   "execution_count": 30,
   "metadata": {},
   "outputs": [
    {
     "name": "stdout",
     "output_type": "stream",
     "text": [
      "1/1 [==============================] - 0s 208ms/step\n"
     ]
    },
    {
     "data": {
      "image/png": "[encoded data removed]",
      "text/plain": [
       "<Figure size 800x600 with 2 Axes>"
      ]
     },
     "metadata": {},
     "output_type": "display_data"
    }
   ],
   "source": [
    "# Generate predictions on the test set\n",
    "y_pred = model.predict([X_test_scaled_image, X_test_scaled_raw, X_test_scaled_gas])\n",
    "y_pred_classes = (y_pred > 0.5).astype(int)  # Assuming it's a binary classification problem\n",
    "\n",
    "# Generate the confusion matrix\n",
    "conf_mat = confusion_matrix(y_test_image, y_pred_classes)\n",
    "\n",
    "# Plot the confusion matrix using seaborn\n",
    "plt.figure(figsize=(8, 6))\n",
    "sns.heatmap(conf_mat, annot=True, fmt='d', cmap='Blues', xticklabels=['Unripe', 'Ripe'], yticklabels=['Unripe', 'Ripe'])\n",
    "plt.title('Confusion Matrix')\n",
    "plt.xlabel('Predicted')\n",
    "plt.ylabel('True')\n",
    "plt.show()"
   ]
  },
  {
   "cell_type": "code",
   "execution_count": 33,
   "metadata": {},
   "outputs": [
    {
     "name": "stderr",
     "output_type": "stream",
     "text": [
      "c:\\Users\\FISREKSATU\\AppData\\Local\\Programs\\Python\\Python39\\lib\\site-packages\\keras\\src\\engine\\training.py:3103: UserWarning: You are saving your model as an HDF5 file via `model.save()`. This file format is considered legacy. We recommend using instead the native Keras format, e.g. `model.save('my_model.keras')`.\n",
      "  saving_api.save_model(\n"
     ]
    }
   ],
   "source": [
    "model.save('3MergedInput-CNN-Conv3.h5')"
   ]
  },
  {
   "cell_type": "code",
   "execution_count": 32,
   "metadata": {},
   "outputs": [],
   "source": [
    "# from tensorflow.keras.preprocessing import image \n",
    "\n",
    "# # %%\n",
    "# # Preprocess and Predict Image data\n",
    "# test_image_path = \"predictions/image/ripe_9.jpg\"\n",
    "# # test_image_path = \"predictions/image/unripe_16.jpg\"\n",
    "# img = image.load_img(test_image_path)\n",
    "# # plt.imshow(img)\n",
    "\n",
    "# # %%\n",
    "# # Preprocess and Predict Gas data\n",
    "# test_gas_path = \"predictions/gas/ripe_13.jpg\"\n",
    "# # test_gas_path = \"predictions/gas/unripe_25.jpg\"\n",
    "# img_gas= image.load_img(test_gas_path)\n",
    "# # plt.imshow(img_gas)\n",
    "\n",
    "# # %%\n",
    "# X_image = image.img_to_array(img)\n",
    "# X_image = np.expand_dims(X_image, axis=0)\n",
    "# X_image = X_image / 255\n",
    "\n",
    "# X_gas = image.img_to_array(img_gas)\n",
    "# X_gas = np.expand_dims(X_gas, axis=0)\n",
    "# X_gas = X_gas / 255\n",
    "\n",
    "# # %%\n",
    "# predict = model.predict([X_image, X_gas])\n",
    "# p = predict[0][0]\n",
    "# p = '{:.10f}'.format(p)\n",
    "# p"
   ]
  }
 ],
 "metadata": {
  "kernelspec": {
   "display_name": "Python 3",
   "language": "python",
   "name": "python3"
  },
  "language_info": {
   "codemirror_mode": {
    "name": "ipython",
    "version": 3
   },
   "file_extension": ".py",
   "mimetype": "text/x-python",
   "name": "python",
   "nbconvert_exporter": "python",
   "pygments_lexer": "ipython3",
   "version": "3.11.5"
  }
 },
 "nbformat": 4,
 "nbformat_minor": 2
}
