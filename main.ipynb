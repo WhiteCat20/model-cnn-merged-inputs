{
 "cells": [
  {
   "cell_type": "code",
   "execution_count": 1,
   "metadata": {},
   "outputs": [],
   "source": [
    "import matplotlib.pyplot as plt\n",
    "import numpy as np\n",
    "import cv2\n",
    "import os\n",
    "import PIL\n",
    "import tensorflow as tf\n",
    "\n",
    "from tensorflow import keras\n",
    "from tensorflow.keras import layers\n",
    "from tensorflow.keras.models import Sequential\n",
    "\n",
    "import pathlib\n",
    "from sklearn.model_selection import train_test_split\n",
    "\n",
    "from sklearn.metrics import confusion_matrix\n",
    "import seaborn as sns"
   ]
  },
  {
   "cell_type": "code",
   "execution_count": 2,
   "metadata": {},
   "outputs": [],
   "source": [
    "# import zipfile\n",
    "\n",
    "# # Unzip the archive into the \"datasets\" folder\n",
    "# local_zip = './merged-datasets.zip'\n",
    "# zip_ref = zipfile.ZipFile(local_zip, 'r')\n",
    "# zip_ref.extractall()\n",
    "# zip_ref.close()"
   ]
  },
  {
   "cell_type": "code",
   "execution_count": 2,
   "metadata": {},
   "outputs": [],
   "source": [
    "# Directory Management for Image datasets\n",
    "data_dir_image = 'datasets/image'\n",
    "data_dir_image = pathlib.Path(data_dir_image)\n",
    "durian_images_dict = {\n",
    "    'ripe' : list(data_dir_image.glob('ripe/*')),\n",
    "    'unripe' : list(data_dir_image.glob('unripe/*')),\n",
    "} \n",
    "durian_labels_dict = {\n",
    "    'ripe' : 0,\n",
    "    'unripe' : 1\n",
    "}"
   ]
  },
  {
   "cell_type": "code",
   "execution_count": 3,
   "metadata": {},
   "outputs": [],
   "source": [
    "# Directory Management for Raw Image datasets\n",
    "data_dir_raw_image = 'datasets/raw image'\n",
    "data_dir_raw_image = pathlib.Path(data_dir_raw_image)\n",
    "raw_durian_images_dict = {\n",
    "    'ripe' : list(data_dir_raw_image.glob('ripe/*')),\n",
    "    'unripe' : list(data_dir_raw_image.glob('unripe/*')),\n",
    "} \n",
    "raw_durian_labels_dict = {\n",
    "    'ripe' : 0,\n",
    "    'unripe' : 1\n",
    "}"
   ]
  },
  {
   "cell_type": "code",
   "execution_count": 4,
   "metadata": {},
   "outputs": [
    {
     "data": {
      "text/plain": [
       "[WindowsPath('datasets/gas/ripe/heatmap_10_percobaan_1.png'),\n",
       " WindowsPath('datasets/gas/ripe/heatmap_10_percobaan_2 - Copy.png'),\n",
       " WindowsPath('datasets/gas/ripe/heatmap_10_percobaan_2.png'),\n",
       " WindowsPath('datasets/gas/ripe/heatmap_10_percobaan_3.png'),\n",
       " WindowsPath('datasets/gas/ripe/heatmap_10_percobaan_4.png')]"
      ]
     },
     "execution_count": 4,
     "metadata": {},
     "output_type": "execute_result"
    }
   ],
   "source": [
    "# Directory Management for Gas datasets\n",
    "data_dir_gas = 'datasets/gas'\n",
    "data_dir_gas = pathlib.Path(data_dir_gas)\n",
    "durian_gas_dict = {\n",
    "    'ripe' : list(data_dir_gas.glob('ripe/*')),\n",
    "    'unripe' : list(data_dir_gas.glob('unripe/*')),\n",
    "} \n",
    "gas_labels_dict = {\n",
    "    'ripe' : 0,\n",
    "    'unripe' : 1\n",
    "}\n",
    "list(data_dir_gas.glob('*/*.png'))[:5]"
   ]
  },
  {
   "cell_type": "code",
   "execution_count": 5,
   "metadata": {},
   "outputs": [
    {
     "data": {
      "text/plain": [
       "array([0, 0, 0, 0, 0, 0, 0, 0, 0, 0, 0, 0, 0, 0, 0, 0, 0, 0, 0, 0, 0, 0,\n",
       "       0, 0, 0, 0, 0, 0, 0, 0, 0, 0, 0, 0, 0, 0, 0, 0, 0, 0, 0, 0, 0, 0,\n",
       "       0, 0, 0, 0, 0, 0, 1, 1, 1, 1, 1, 1, 1, 1, 1, 1, 1, 1, 1, 1, 1, 1,\n",
       "       1, 1, 1, 1, 1, 1, 1, 1, 1, 1, 1, 1, 1, 1, 1, 1, 1, 1, 1, 1, 1, 1,\n",
       "       1, 1, 1, 1, 1, 1, 1, 1, 1, 1, 1, 1])"
      ]
     },
     "execution_count": 5,
     "metadata": {},
     "output_type": "execute_result"
    }
   ],
   "source": [
    "X_image, y_image = [], []\n",
    "for durian_ripeness, images in durian_images_dict.items():\n",
    "    for index, image in enumerate(images):\n",
    "        img = cv2.imread(str(image))\n",
    "        resized_img = cv2.resize(img,(200,200))\n",
    "        X_image.append(resized_img)\n",
    "        y_image.append(durian_labels_dict[durian_ripeness])\n",
    "X_image = np.array(X_image)\n",
    "y_image = np.array(y_image)\n",
    "y_image"
   ]
  },
  {
   "cell_type": "code",
   "execution_count": 6,
   "metadata": {},
   "outputs": [
    {
     "data": {
      "text/plain": [
       "array([0, 0, 0, 0, 0, 0, 0, 0, 0, 0, 0, 0, 0, 0, 0, 0, 0, 0, 0, 0, 0, 0,\n",
       "       0, 0, 0, 0, 0, 0, 0, 0, 0, 0, 0, 0, 0, 0, 0, 0, 0, 0, 0, 0, 0, 0,\n",
       "       0, 0, 0, 0, 0, 0, 1, 1, 1, 1, 1, 1, 1, 1, 1, 1, 1, 1, 1, 1, 1, 1,\n",
       "       1, 1, 1, 1, 1, 1, 1, 1, 1, 1, 1, 1, 1, 1, 1, 1, 1, 1, 1, 1, 1, 1,\n",
       "       1, 1, 1, 1, 1, 1, 1, 1, 1, 1, 1, 1])"
      ]
     },
     "execution_count": 6,
     "metadata": {},
     "output_type": "execute_result"
    }
   ],
   "source": [
    "X_raw, y_raw = [], []\n",
    "output_folder = \"resized_images\"\n",
    "for durian_ripeness, images in raw_durian_images_dict.items():\n",
    "    for index, image in enumerate(images):\n",
    "        img = cv2.imread(str(image))\n",
    "        resized_img = cv2.resize(img,(200,200))\n",
    "        X_raw.append(resized_img)\n",
    "        y_raw.append(raw_durian_labels_dict[durian_ripeness])\n",
    "        # Uncomment if you want to check all the resized images\n",
    "        # output_name = f\"{durian_ripeness}_{index}.jpg\"\n",
    "        # output_path = os.path.join(output_folder, output_name)\n",
    "        # cv2.imwrite(output_path, resized_img)\n",
    "X_raw = np.array(X_raw)\n",
    "y_raw = np.array(y_raw)\n",
    "y_raw"
   ]
  },
  {
   "cell_type": "code",
   "execution_count": 7,
   "metadata": {},
   "outputs": [
    {
     "data": {
      "text/plain": [
       "array([0, 0, 0, 0, 0, 0, 0, 0, 0, 0, 0, 0, 0, 0, 0, 0, 0, 0, 0, 0, 0, 0,\n",
       "       0, 0, 0, 0, 0, 0, 0, 0, 0, 0, 0, 0, 0, 0, 0, 0, 0, 0, 0, 0, 0, 0,\n",
       "       0, 0, 0, 0, 0, 0, 1, 1, 1, 1, 1, 1, 1, 1, 1, 1, 1, 1, 1, 1, 1, 1,\n",
       "       1, 1, 1, 1, 1, 1, 1, 1, 1, 1, 1, 1, 1, 1, 1, 1, 1, 1, 1, 1, 1, 1,\n",
       "       1, 1, 1, 1, 1, 1, 1, 1, 1, 1, 1, 1])"
      ]
     },
     "execution_count": 7,
     "metadata": {},
     "output_type": "execute_result"
    }
   ],
   "source": [
    "X_gas, y_gas = [], []\n",
    "for durian_ripeness, images in durian_gas_dict.items():\n",
    "    for index, image in enumerate(images):\n",
    "        img = cv2.imread(str(image))\n",
    "        resized_img = cv2.resize(img,(200,200))\n",
    "        X_gas.append(resized_img)\n",
    "        y_gas.append(gas_labels_dict[durian_ripeness])\n",
    "X_gas = np.array(X_gas)\n",
    "y_gas = np.array(y_gas)\n",
    "y_gas"
   ]
  },
  {
   "cell_type": "code",
   "execution_count": 8,
   "metadata": {},
   "outputs": [],
   "source": [
    "from sklearn.model_selection import train_test_split\n",
    "X_train_image, X_test_image, y_train_image, y_test_image = train_test_split(X_image, y_image, train_size=0.6)\n",
    "X_train_raw, X_test_raw, y_train_raw, y_test_raw = train_test_split(X_raw, y_raw, train_size=0.6)\n",
    "X_train_gas, X_test_gas, y_train_gas, y_test_gas = train_test_split(X_gas, y_gas, train_size=0.6)\n",
    "# Scaling Image dataset\n",
    "X_train_scaled_image = X_train_image /255\n",
    "X_test_scaled_image = X_test_image /255\n",
    "# Scaling Raw dataset\n",
    "X_train_scaled_raw = X_train_raw /255\n",
    "X_test_scaled_raw = X_test_raw /255\n",
    "# Scaling Gas dataset\n",
    "X_train_scaled_gas = X_train_gas /255\n",
    "X_test_scaled_gas = X_test_gas /255"
   ]
  },
  {
   "cell_type": "code",
   "execution_count": 9,
   "metadata": {},
   "outputs": [],
   "source": [
    "from tensorflow.keras.layers import Input, Conv2D, MaxPooling2D, Dropout, Flatten, Dense, concatenate\n",
    "from tensorflow.keras.models import Model\n",
    "\n",
    "input_shape_image = (200, 200, 3)  \n",
    "input_shape_raw = (200, 200, 3)  \n",
    "input_shape_gas = (200, 200, 3)  \n",
    "\n",
    "\n",
    "# Define two separate input layers\n",
    "input_image = Input(shape=input_shape_image)\n",
    "input_raw = Input(shape=input_shape_raw)\n",
    "input_gas = Input(shape=input_shape_gas)"
   ]
  },
  {
   "cell_type": "code",
   "execution_count": 10,
   "metadata": {},
   "outputs": [],
   "source": [
    "convDim = 5  # Define the convolution dimension"
   ]
  },
  {
   "cell_type": "code",
   "execution_count": 11,
   "metadata": {},
   "outputs": [
    {
     "name": "stderr",
     "output_type": "stream",
     "text": [
      "c:\\Users\\induction motor\\AppData\\Local\\Programs\\Python\\Python312\\Lib\\site-packages\\keras\\src\\layers\\convolutional\\base_conv.py:99: UserWarning: Do not pass an `input_shape`/`input_dim` argument to a layer. When using Sequential models, prefer using an `Input(shape)` object as the first layer in the model instead.\n",
      "  super().__init__(\n"
     ]
    }
   ],
   "source": [
    "# Convolution layer for Image dataset\n",
    "conv1_image = Conv2D(64, (convDim, convDim), activation='relu', input_shape=input_shape_image)(input_image)\n",
    "pool1_image = MaxPooling2D(2, 2)(conv1_image)\n",
    "drop1_image = Dropout(0.25)(pool1_image)\n",
    "\n",
    "conv2_image = Conv2D(128, (convDim, convDim), activation='relu')(drop1_image)\n",
    "pool2_image = MaxPooling2D(2, 2)(conv2_image)\n",
    "drop2_image = Dropout(0.25)(pool2_image)\n",
    "\n",
    "flat_image = Flatten()(drop2_image)"
   ]
  },
  {
   "cell_type": "code",
   "execution_count": 12,
   "metadata": {},
   "outputs": [],
   "source": [
    "# Convolution layer for Raw dataset\n",
    "conv1_raw = Conv2D(64, (convDim, convDim), activation='relu', input_shape=input_shape_raw)(input_raw)\n",
    "pool1_raw = MaxPooling2D(2, 2)(conv1_raw)\n",
    "drop1_raw = Dropout(0.25)(pool1_raw)\n",
    "\n",
    "conv2_raw = Conv2D(128, (convDim, convDim), activation='relu')(drop1_raw)\n",
    "pool2_raw = MaxPooling2D(2, 2)(conv2_raw)\n",
    "drop2_raw = Dropout(0.25)(pool2_raw)\n",
    "\n",
    "flat_raw = Flatten()(drop2_raw)"
   ]
  },
  {
   "cell_type": "code",
   "execution_count": 13,
   "metadata": {},
   "outputs": [],
   "source": [
    "# Convolution layer for Gas dataset\n",
    "conv1_gas = Conv2D(64, (convDim, convDim), activation='relu', input_shape=input_shape_gas)(input_gas)\n",
    "pool1_gas = MaxPooling2D(2, 2)(conv1_gas)\n",
    "drop1_gas = Dropout(0.25)(pool1_gas)\n",
    "\n",
    "conv2_gas = Conv2D(128, (convDim, convDim), activation='relu')(drop1_gas)\n",
    "pool2_gas = MaxPooling2D(2, 2)(conv2_gas)\n",
    "drop2_gas = Dropout(0.25)(pool2_gas)\n",
    "\n",
    "flat_gas = Flatten()(drop2_gas)"
   ]
  },
  {
   "cell_type": "code",
   "execution_count": 14,
   "metadata": {},
   "outputs": [],
   "source": [
    "# Concatenate the flattened outputs\n",
    "merged = concatenate([flat_image, flat_raw, flat_gas])"
   ]
  },
  {
   "cell_type": "code",
   "execution_count": 15,
   "metadata": {},
   "outputs": [],
   "source": [
    "# Fully Connected Layer\n",
    "fc2 = Dense(128, activation='relu')(merged)\n",
    "drop_fc2 = Dropout(0.5)(fc2)\n",
    "output = Dense(1, activation='sigmoid')(drop_fc2)\n",
    "\n",
    "# Create the model\n",
    "model = Model(inputs=[input_image, input_raw, input_gas], outputs=output)"
   ]
  },
  {
   "cell_type": "code",
   "execution_count": 16,
   "metadata": {},
   "outputs": [
    {
     "name": "stdout",
     "output_type": "stream",
     "text": [
      "You must install pydot (`pip install pydot`) for `plot_model` to work.\n"
     ]
    }
   ],
   "source": [
    "# Compile the model\n",
    "model.compile(optimizer='adam', loss='binary_crossentropy', metrics=['accuracy'], run_eagerly=True)\n",
    "from tensorflow.keras.utils import plot_model\n",
    "\n",
    "# Print model summary\n",
    "# model.summary()\n",
    "plot_model(model, to_file='custom-cnn.png', show_shapes=False, show_layer_names=True)"
   ]
  },
  {
   "cell_type": "code",
   "execution_count": 17,
   "metadata": {},
   "outputs": [],
   "source": [
    "class myCallback(tf.keras.callbacks.Callback):\n",
    "  def on_epoch_end(self, epoch, logs={}):\n",
    "    # Check the loss\n",
    "    if(logs.get('accuracy') == 1.0):\n",
    "\n",
    "      # Stop if threshold is met\n",
    "      print(\"\\nAccuracy is reached than 1.0 so cancelling training!\")\n",
    "      self.model.stop_training = True\n",
    "\n",
    "# Instantiate class\n",
    "callbacks = myCallback()\n",
    "# callbacks=callbacks"
   ]
  },
  {
   "cell_type": "code",
   "execution_count": 18,
   "metadata": {},
   "outputs": [
    {
     "name": "stdout",
     "output_type": "stream",
     "text": [
      "Epoch 1/25\n",
      "\u001b[1m20/20\u001b[0m \u001b[32m━━━━━━━━━━━━━━━━━━━━\u001b[0m\u001b[37m\u001b[0m \u001b[1m43s\u001b[0m 2s/step - accuracy: 0.4600 - loss: 6.6828 - val_accuracy: 0.4750 - val_loss: 0.6665\n",
      "Epoch 2/25\n",
      "\u001b[1m20/20\u001b[0m \u001b[32m━━━━━━━━━━━━━━━━━━━━\u001b[0m\u001b[37m\u001b[0m \u001b[1m42s\u001b[0m 2s/step - accuracy: 0.5685 - loss: 0.6130 - val_accuracy: 0.5000 - val_loss: 0.5794\n",
      "Epoch 3/25\n",
      "\u001b[1m20/20\u001b[0m \u001b[32m━━━━━━━━━━━━━━━━━━━━\u001b[0m\u001b[37m\u001b[0m \u001b[1m42s\u001b[0m 2s/step - accuracy: 0.5710 - loss: 0.5023 - val_accuracy: 0.5250 - val_loss: 0.5324\n",
      "Epoch 4/25\n",
      "\u001b[1m20/20\u001b[0m \u001b[32m━━━━━━━━━━━━━━━━━━━━\u001b[0m\u001b[37m\u001b[0m \u001b[1m42s\u001b[0m 2s/step - accuracy: 0.8656 - loss: 0.2719 - val_accuracy: 0.5750 - val_loss: 1.0200\n",
      "Epoch 5/25\n",
      "\u001b[1m20/20\u001b[0m \u001b[32m━━━━━━━━━━━━━━━━━━━━\u001b[0m\u001b[37m\u001b[0m \u001b[1m42s\u001b[0m 2s/step - accuracy: 0.9080 - loss: 0.2552 - val_accuracy: 0.8000 - val_loss: 0.3423\n",
      "Epoch 6/25\n",
      "\u001b[1m20/20\u001b[0m \u001b[32m━━━━━━━━━━━━━━━━━━━━\u001b[0m\u001b[37m\u001b[0m \u001b[1m41s\u001b[0m 2s/step - accuracy: 1.0000 - loss: 0.0593 - val_accuracy: 0.8250 - val_loss: 0.4286\n",
      "Epoch 7/25\n",
      "\u001b[1m20/20\u001b[0m \u001b[32m━━━━━━━━━━━━━━━━━━━━\u001b[0m\u001b[37m\u001b[0m \u001b[1m41s\u001b[0m 2s/step - accuracy: 1.0000 - loss: 0.0217 - val_accuracy: 0.8250 - val_loss: 0.3977\n",
      "Epoch 8/25\n",
      "\u001b[1m20/20\u001b[0m \u001b[32m━━━━━━━━━━━━━━━━━━━━\u001b[0m\u001b[37m\u001b[0m \u001b[1m41s\u001b[0m 2s/step - accuracy: 0.9659 - loss: 0.1185 - val_accuracy: 0.7250 - val_loss: 0.8008\n",
      "Epoch 9/25\n",
      "\u001b[1m20/20\u001b[0m \u001b[32m━━━━━━━━━━━━━━━━━━━━\u001b[0m\u001b[37m\u001b[0m \u001b[1m41s\u001b[0m 2s/step - accuracy: 1.0000 - loss: 0.0172 - val_accuracy: 0.8000 - val_loss: 0.5597\n",
      "Epoch 10/25\n",
      "\u001b[1m20/20\u001b[0m \u001b[32m━━━━━━━━━━━━━━━━━━━━\u001b[0m\u001b[37m\u001b[0m \u001b[1m41s\u001b[0m 2s/step - accuracy: 1.0000 - loss: 0.0043 - val_accuracy: 0.8000 - val_loss: 0.5483\n",
      "Epoch 11/25\n",
      "\u001b[1m20/20\u001b[0m \u001b[32m━━━━━━━━━━━━━━━━━━━━\u001b[0m\u001b[37m\u001b[0m \u001b[1m41s\u001b[0m 2s/step - accuracy: 1.0000 - loss: 0.0014 - val_accuracy: 0.7750 - val_loss: 0.5660\n",
      "Epoch 12/25\n",
      "\u001b[1m20/20\u001b[0m \u001b[32m━━━━━━━━━━━━━━━━━━━━\u001b[0m\u001b[37m\u001b[0m \u001b[1m41s\u001b[0m 2s/step - accuracy: 1.0000 - loss: 0.0069 - val_accuracy: 0.7750 - val_loss: 0.6993\n",
      "Epoch 13/25\n",
      "\u001b[1m20/20\u001b[0m \u001b[32m━━━━━━━━━━━━━━━━━━━━\u001b[0m\u001b[37m\u001b[0m \u001b[1m41s\u001b[0m 2s/step - accuracy: 1.0000 - loss: 0.0019 - val_accuracy: 0.7750 - val_loss: 0.7612\n",
      "Epoch 14/25\n",
      "\u001b[1m20/20\u001b[0m \u001b[32m━━━━━━━━━━━━━━━━━━━━\u001b[0m\u001b[37m\u001b[0m \u001b[1m41s\u001b[0m 2s/step - accuracy: 1.0000 - loss: 0.0017 - val_accuracy: 0.7750 - val_loss: 0.7541\n",
      "Epoch 15/25\n",
      "\u001b[1m20/20\u001b[0m \u001b[32m━━━━━━━━━━━━━━━━━━━━\u001b[0m\u001b[37m\u001b[0m \u001b[1m42s\u001b[0m 2s/step - accuracy: 1.0000 - loss: 7.6913e-04 - val_accuracy: 0.7750 - val_loss: 0.7258\n",
      "Epoch 16/25\n",
      "\u001b[1m20/20\u001b[0m \u001b[32m━━━━━━━━━━━━━━━━━━━━\u001b[0m\u001b[37m\u001b[0m \u001b[1m42s\u001b[0m 2s/step - accuracy: 1.0000 - loss: 7.2713e-04 - val_accuracy: 0.7750 - val_loss: 0.7590\n",
      "Epoch 17/25\n",
      "\u001b[1m20/20\u001b[0m \u001b[32m━━━━━━━━━━━━━━━━━━━━\u001b[0m\u001b[37m\u001b[0m \u001b[1m41s\u001b[0m 2s/step - accuracy: 1.0000 - loss: 0.0012 - val_accuracy: 0.7250 - val_loss: 1.0141\n",
      "Epoch 18/25\n",
      "\u001b[1m20/20\u001b[0m \u001b[32m━━━━━━━━━━━━━━━━━━━━\u001b[0m\u001b[37m\u001b[0m \u001b[1m41s\u001b[0m 2s/step - accuracy: 1.0000 - loss: 2.7889e-04 - val_accuracy: 0.7250 - val_loss: 1.0505\n",
      "Epoch 19/25\n",
      "\u001b[1m20/20\u001b[0m \u001b[32m━━━━━━━━━━━━━━━━━━━━\u001b[0m\u001b[37m\u001b[0m \u001b[1m41s\u001b[0m 2s/step - accuracy: 1.0000 - loss: 3.7229e-04 - val_accuracy: 0.7250 - val_loss: 0.9756\n",
      "Epoch 20/25\n",
      "\u001b[1m20/20\u001b[0m \u001b[32m━━━━━━━━━━━━━━━━━━━━\u001b[0m\u001b[37m\u001b[0m \u001b[1m41s\u001b[0m 2s/step - accuracy: 1.0000 - loss: 8.4982e-05 - val_accuracy: 0.7250 - val_loss: 0.9451\n",
      "Epoch 21/25\n",
      "\u001b[1m20/20\u001b[0m \u001b[32m━━━━━━━━━━━━━━━━━━━━\u001b[0m\u001b[37m\u001b[0m \u001b[1m42s\u001b[0m 2s/step - accuracy: 1.0000 - loss: 4.6127e-04 - val_accuracy: 0.8000 - val_loss: 0.7346\n",
      "Epoch 22/25\n",
      "\u001b[1m20/20\u001b[0m \u001b[32m━━━━━━━━━━━━━━━━━━━━\u001b[0m\u001b[37m\u001b[0m \u001b[1m41s\u001b[0m 2s/step - accuracy: 1.0000 - loss: 1.4711e-04 - val_accuracy: 0.8250 - val_loss: 0.6179\n",
      "Epoch 23/25\n",
      "\u001b[1m20/20\u001b[0m \u001b[32m━━━━━━━━━━━━━━━━━━━━\u001b[0m\u001b[37m\u001b[0m \u001b[1m41s\u001b[0m 2s/step - accuracy: 1.0000 - loss: 5.4105e-05 - val_accuracy: 0.8250 - val_loss: 0.6343\n",
      "Epoch 24/25\n",
      "\u001b[1m20/20\u001b[0m \u001b[32m━━━━━━━━━━━━━━━━━━━━\u001b[0m\u001b[37m\u001b[0m \u001b[1m44s\u001b[0m 2s/step - accuracy: 1.0000 - loss: 1.6255e-04 - val_accuracy: 0.8250 - val_loss: 0.6487\n",
      "Epoch 25/25\n",
      "\u001b[1m20/20\u001b[0m \u001b[32m━━━━━━━━━━━━━━━━━━━━\u001b[0m\u001b[37m\u001b[0m \u001b[1m42s\u001b[0m 2s/step - accuracy: 1.0000 - loss: 4.3355e-05 - val_accuracy: 0.8250 - val_loss: 0.6588\n"
     ]
    }
   ],
   "source": [
    "# Train the model\n",
    "model_fit = model.fit(\n",
    " (X_train_scaled_image, X_train_scaled_raw, X_train_scaled_gas), \n",
    " y_train_image, \n",
    " batch_size=3, \n",
    " epochs=25,\n",
    " validation_data=(\n",
    "        (X_test_scaled_image, X_test_scaled_raw, X_test_scaled_gas), \n",
    "        (y_test_image, y_test_raw, y_test_gas)\n",
    "    ),\n",
    "#  callbacks=callbacks\n",
    " )"
   ]
  },
  {
   "cell_type": "code",
   "execution_count": 24,
   "metadata": {},
   "outputs": [
    {
     "name": "stdout",
     "output_type": "stream",
     "text": [
      "\u001b[1m2/2\u001b[0m \u001b[32m━━━━━━━━━━━━━━━━━━━━\u001b[0m\u001b[37m\u001b[0m \u001b[1m2s\u001b[0m 574ms/step - accuracy: 0.8104 - loss: 0.5897\n",
      "Test Loss: 0.4621782898902893\n",
      "Test Accuracy: 0.824999988079071\n"
     ]
    }
   ],
   "source": [
    "loss, accuracy = model.evaluate([X_test_scaled_image, X_test_scaled_raw, X_test_scaled_gas], [y_test_image, y_test_raw, y_test_gas])\n",
    "print(\"Test Loss:\", loss)\n",
    "print(\"Test Accuracy:\", accuracy)"
   ]
  },
  {
   "cell_type": "code",
   "execution_count": 25,
   "metadata": {},
   "outputs": [
    {
     "name": "stdout",
     "output_type": "stream",
     "text": [
      "\u001b[1m2/2\u001b[0m \u001b[32m━━━━━━━━━━━━━━━━━━━━\u001b[0m\u001b[37m\u001b[0m \u001b[1m2s\u001b[0m 518ms/step\n"
     ]
    },
    {
     "data": {
      "text/plain": [
       "array([[0.  ],\n",
       "       [0.99],\n",
       "       [0.  ],\n",
       "       [1.  ],\n",
       "       [0.94],\n",
       "       [0.  ],\n",
       "       [0.  ],\n",
       "       [1.  ],\n",
       "       [1.  ],\n",
       "       [0.85],\n",
       "       [1.  ],\n",
       "       [1.  ],\n",
       "       [1.  ],\n",
       "       [0.06],\n",
       "       [0.  ],\n",
       "       [0.99],\n",
       "       [1.  ],\n",
       "       [0.9 ],\n",
       "       [0.99],\n",
       "       [0.94],\n",
       "       [1.  ],\n",
       "       [1.  ],\n",
       "       [0.45],\n",
       "       [1.  ],\n",
       "       [1.  ],\n",
       "       [1.  ],\n",
       "       [0.98],\n",
       "       [1.  ],\n",
       "       [0.02],\n",
       "       [0.55],\n",
       "       [0.  ],\n",
       "       [1.  ],\n",
       "       [0.  ],\n",
       "       [0.  ],\n",
       "       [0.2 ],\n",
       "       [1.  ],\n",
       "       [0.34],\n",
       "       [1.  ],\n",
       "       [1.  ],\n",
       "       [0.  ]], dtype=float32)"
      ]
     },
     "execution_count": 25,
     "metadata": {},
     "output_type": "execute_result"
    }
   ],
   "source": [
    "predictions = model.predict([X_test_scaled_image, X_test_scaled_raw, X_test_scaled_gas])\n",
    "predictions = np.round(predictions,2)\n",
    "predictions"
   ]
  },
  {
   "cell_type": "code",
   "execution_count": 26,
   "metadata": {},
   "outputs": [
    {
     "data": {
      "image/png": "[encoded data removed]",
      "text/plain": [
       "<Figure size 1200x600 with 2 Axes>"
      ]
     },
     "metadata": {},
     "output_type": "display_data"
    }
   ],
   "source": [
    "# Plot training and validation history\n",
    "plt.figure(figsize=(12, 6))\n",
    "\n",
    "# Plot training & validation accuracy values\n",
    "plt.subplot(1, 2, 1)\n",
    "plt.plot(model_fit.history['accuracy'])\n",
    "plt.plot(model_fit.history['val_accuracy'])  # Add validation accuracy\n",
    "plt.title('Model Accuracy')\n",
    "plt.xlabel('Epoch')\n",
    "plt.ylabel('Accuracy')\n",
    "plt.legend(['Train', 'Validation'], loc='upper left')\n",
    "\n",
    "# Plot training & validation loss values\n",
    "plt.subplot(1, 2, 2)\n",
    "plt.plot(model_fit.history['loss'])\n",
    "plt.plot(model_fit.history['val_loss'])  # Add validation loss\n",
    "plt.title('Model Loss')\n",
    "plt.xlabel('Epoch')\n",
    "plt.ylabel('Loss')\n",
    "plt.legend(['Train', 'Validation'], loc='upper left')\n",
    "\n",
    "plt.tight_layout()\n",
    "plt.show()"
   ]
  },
  {
   "cell_type": "code",
   "execution_count": 27,
   "metadata": {},
   "outputs": [
    {
     "name": "stdout",
     "output_type": "stream",
     "text": [
      "\u001b[1m2/2\u001b[0m \u001b[32m━━━━━━━━━━━━━━━━━━━━\u001b[0m\u001b[37m\u001b[0m \u001b[1m2s\u001b[0m 494ms/step\n"
     ]
    },
    {
     "data": {
      "image/png": "[encoded data removed]",
      "text/plain": [
       "<Figure size 800x600 with 2 Axes>"
      ]
     },
     "metadata": {},
     "output_type": "display_data"
    }
   ],
   "source": [
    "# Generate predictions on the test set\n",
    "y_pred = model.predict([X_test_scaled_image, X_test_scaled_raw, X_test_scaled_gas])\n",
    "y_pred_classes = (y_pred > 0.9).astype(int)  # Assuming it's a binary classification problem\n",
    "\n",
    "# Generate the confusion matrix\n",
    "conf_mat = confusion_matrix(y_test_image, y_pred_classes)\n",
    "\n",
    "# Plot the confusion matrix using seaborn\n",
    "plt.figure(figsize=(8, 6))\n",
    "sns.heatmap(conf_mat, annot=True, fmt='d', cmap='Blues', xticklabels=['Unripe', 'Ripe'], yticklabels=['Unripe', 'Ripe'])\n",
    "plt.title('Confusion Matrix')\n",
    "plt.xlabel('Predicted')\n",
    "plt.ylabel('True')\n",
    "plt.show()"
   ]
  },
  {
   "cell_type": "code",
   "execution_count": 28,
   "metadata": {},
   "outputs": [],
   "source": [
    "# model.save('3MergedInput-CNN-Conv3.h5')"
   ]
  },
  {
   "cell_type": "code",
   "execution_count": 29,
   "metadata": {},
   "outputs": [],
   "source": [
    "# from tensorflow.keras.preprocessing import image \n",
    "\n",
    "# # %%\n",
    "# # Preprocess and Predict Image data\n",
    "# test_image_path = \"predictions/image/ripe_9.jpg\"\n",
    "# # test_image_path = \"predictions/image/unripe_16.jpg\"\n",
    "# img = image.load_img(test_image_path)\n",
    "# # plt.imshow(img)\n",
    "\n",
    "# # %%\n",
    "# # Preprocess and Predict Gas data\n",
    "# test_gas_path = \"predictions/gas/ripe_13.jpg\"\n",
    "# # test_gas_path = \"predictions/gas/unripe_25.jpg\"\n",
    "# img_gas= image.load_img(test_gas_path)\n",
    "# # plt.imshow(img_gas)\n",
    "\n",
    "# # %%\n",
    "# X_image = image.img_to_array(img)\n",
    "# X_image = np.expand_dims(X_image, axis=0)\n",
    "# X_image = X_image / 255\n",
    "\n",
    "# X_gas = image.img_to_array(img_gas)\n",
    "# X_gas = np.expand_dims(X_gas, axis=0)\n",
    "# X_gas = X_gas / 255\n",
    "\n",
    "# # %%\n",
    "# predict = model.predict([X_image, X_gas])\n",
    "# p = predict[0][0]\n",
    "# p = '{:.10f}'.format(p)\n",
    "# p"
   ]
  }
 ],
 "metadata": {
  "kernelspec": {
   "display_name": "Python 3",
   "language": "python",
   "name": "python3"
  },
  "language_info": {
   "codemirror_mode": {
    "name": "ipython",
    "version": 3
   },
   "file_extension": ".py",
   "mimetype": "text/x-python",
   "name": "python",
   "nbconvert_exporter": "python",
   "pygments_lexer": "ipython3",
   "version": "3.12.2"
  }
 },
 "nbformat": 4,
 "nbformat_minor": 2
}
